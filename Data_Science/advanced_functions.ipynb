{
 "cells": [
  {
   "cell_type": "code",
   "execution_count": 25,
   "id": "a7c420f9-04d7-4188-97ba-f08f4a9ef640",
   "metadata": {},
   "outputs": [
    {
     "name": "stdout",
     "output_type": "stream",
     "text": [
      "['Elbek', 'Kadir', 'Boy']\n"
     ]
    }
   ],
   "source": [
    "# Filter functions\n",
    "#students = [\"Elbek\", \"Adil\", \"Kadir\", \"Boy2\", \"Robert\", \"Elis\", \"Elvis\", 1, 2, 3, 4, 5, 6, 7, 8, 9, 10]\n",
    "students = \"Elbek Adil Kadir Boy Robert Norber Elvis Lis 1 2 3 4 5 6 7 8 9 0\".split()\n",
    "selected_students = [\"Elbek\", \"Kadir\", \"Boy\"]\n",
    "\n",
    "def extract_selected_students(item):\n",
    "    if item in selected_students:\n",
    "        return True\n",
    "    else:\n",
    "        return False\n",
    "\n",
    "students_after_selection = filter(extract_selected_students, students)\n",
    "print(list(students_after_selection))"
   ]
  },
  {
   "cell_type": "code",
   "execution_count": 63,
   "id": "751e6419-fef3-40db-a8ab-0dd61f517150",
   "metadata": {},
   "outputs": [
    {
     "name": "stdout",
     "output_type": "stream",
     "text": [
      "[('Item3', 3), ('Item6', 4), ('Item4', 5), ('Item1', 10), ('Item2', 12), ('Item5', 16)]\n",
      "[2, 4, 6, 8, 0]\n"
     ]
    }
   ],
   "source": [
    "# Lambda Functions\n",
    "# use lambda to sort...\n",
    "products = [\n",
    "    (\"Item1\", 10),\n",
    "    (\"Item2\", 12),\n",
    "    (\"Item3\", 3),\n",
    "    (\"Item4\", 5),\n",
    "    (\"Item5\", 16),\n",
    "    (\"Item6\", 4)\n",
    "]\n",
    "products.sort(key=lambda item: item[1])\n",
    "print(products)\n",
    "# use filter with lambda to take even numbers\n",
    "random_numbers = [1, 2, 3, 4, 5, 6, 7, 8, 9, 0]\n",
    "even_numbers = filter(lambda a: (a % 2 == 0), random_numbers)\n",
    "print(list(even_numbers))\n",
    "# for i in random_numbers:\n",
    "#     if i % 2 == 0:\n",
    "#         even_numbers.append(i)\n",
    "# print(even_numbers)"
   ]
  },
  {
   "cell_type": "code",
   "execution_count": 81,
   "id": "906d284d-4d45-4a30-bd46-d9787ddf208f",
   "metadata": {},
   "outputs": [
    {
     "name": "stdout",
     "output_type": "stream",
     "text": [
      "[5, 6, 6]\n",
      "[5, 6, 6]\n",
      "[5, 6, 6]\n",
      "[1, 4, 9, 16, 25, 36, 49, 64, 81]\n"
     ]
    }
   ],
   "source": [
    "# Map Functions\n",
    "fruits = (\"apple\", \"banana\", \"cherry\")\n",
    "# calculate length of each item in fruits \n",
    "def calculate_len(item):\n",
    "    return len(item)\n",
    "result = map(calculate_len, fruits)\n",
    "print(list(result))\n",
    "results = []\n",
    "for item in fruits:\n",
    "    results.append(len(item))\n",
    "print(results)\n",
    "results = [len(item) for item in fruits]\n",
    "print(results)\n",
    "\n",
    "numbers = [1, 2, 3, 4, 5, 6, 7, 8, 9]\n",
    "def calculate_square(n):\n",
    "    return n * n\n",
    "result_sqr = map(calculate_square, numbers)\n",
    "print(list(result_sqr))"
   ]
  },
  {
   "cell_type": "code",
   "execution_count": 182,
   "id": "cc6c72af-3043-4464-a8ca-3752330f251e",
   "metadata": {},
   "outputs": [
    {
     "name": "stdout",
     "output_type": "stream",
     "text": [
      "[(1, 'Kadir', 'A'), (2, 'Adil', ' '), (3, 'Fozil', 'B')]\n",
      "{'name': 'Kadir', 'surname': 'Abdusalomov', 'age': 22, 'status': 'student', 'id': 27}\n"
     ]
    }
   ],
   "source": [
    "# Zip Functions\n",
    "numbers = [1, 2, 3, 4, 5, 6]\n",
    "names = ['Kadir', 'Adil', 'Fozil']\n",
    "alpha = \"A B C D E F G\".strip()\n",
    "result_zipped = zip(numbers, names, alpha)\n",
    "print(list(result_zipped))\n",
    "\n",
    "keys = [\"name\", \"surname\", \"age\", \"status\", \"id\"]\n",
    "values = [\"Kadir\", \"Abdusalomov\", 22, \"student\", 27]\n",
    "mix = zip(keys, values)\n",
    "print(dict(mix))"
   ]
  },
  {
   "cell_type": "code",
   "execution_count": 135,
   "id": "d9804217-e42a-44ac-a2eb-3f166c0c7ad4",
   "metadata": {},
   "outputs": [
    {
     "name": "stdout",
     "output_type": "stream",
     "text": [
      "array('i', [1, 2, 3, 4])\n"
     ]
    }
   ],
   "source": [
    "# Arrays\n",
    "from array import array\n",
    "numbers = array(\"i\", [1, 2, 3])\n",
    "numbers.append(4)\n",
    "print(numbers)"
   ]
  },
  {
   "cell_type": "code",
   "execution_count": 143,
   "id": "41f5bbde-2076-4978-a702-465600f1fb90",
   "metadata": {},
   "outputs": [
    {
     "name": "stdout",
     "output_type": "stream",
     "text": [
      "List size: 8448728 Tuple size: 8000040 Generator Expression size: 200\n"
     ]
    }
   ],
   "source": [
    "# Generator Objects\n",
    "from sys import getsizeof\n",
    "# list \n",
    "numbers_as_list = [n*100 for n in range(1000000)]\n",
    "# tuple\n",
    "numbers_as_tuple = tuple(n*100 for n in range(1000000))\n",
    "# generator expressions\n",
    "numbers_as_gen_exp = (n*100 for n in range(1000000))\n",
    "print(f\"List size: {getsizeof(numbers_as_list)} Tuple size: {getsizeof(numbers_as_tuple)} Generator Expression size: {getsizeof(numbers_as_gen_exp)}\")\n",
    "# Generator Expressions are efficient while working with large volumes of data compared to other data types like lists or tuples"
   ]
  },
  {
   "cell_type": "code",
   "execution_count": 220,
   "id": "ab6e1ff7-358a-4883-9aa3-8801ae57c18b",
   "metadata": {},
   "outputs": [
    {
     "name": "stdout",
     "output_type": "stream",
     "text": [
      "1 2 3 4 5\n",
      "1 3 5 7 9\n",
      "M u k h a m m a d k o d i r\n",
      "n o t P y h\n",
      "Warsaw  Berlin  London  Paris Poland Germany UK France Warsaw  Berlin  London  Paris Poland Germany UK France\n",
      "{'name': 'Mukhammadkodir', 'surname': 'Abdusalomov', 'age': 22}\n"
     ]
    }
   ],
   "source": [
    "# Unpacking Operator\n",
    "numbers = [1, 2, 3, 4, 5]\n",
    "print(*numbers)\n",
    "values = [*range(1, 10, 2)]\n",
    "print(*values)\n",
    "print(*\"Mukhammadkodir\")\n",
    "print(*{*\"Python\"})\n",
    "cities = \"Warsaw, Berlin, London, Paris\".split(',')\n",
    "countries = \"Poland Germany UK France\".split()\n",
    "info = [*cities, *countries]\n",
    "print(*cities, *countries, *info)\n",
    "\n",
    "dict_one = {\"name\":\"Mukhammadkodir\"}\n",
    "dict_two = {\"surname\": \"Abdusalomov\"}\n",
    "dict_three = dict(age = 22)\n",
    "dict_combined = {**dict_one, **dict_two, **dict_three}\n",
    "print(dict_combined)"
   ]
  }
 ],
 "metadata": {
  "kernelspec": {
   "display_name": "Python 3 (ipykernel)",
   "language": "python",
   "name": "python3"
  },
  "language_info": {
   "codemirror_mode": {
    "name": "ipython",
    "version": 3
   },
   "file_extension": ".py",
   "mimetype": "text/x-python",
   "name": "python",
   "nbconvert_exporter": "python",
   "pygments_lexer": "ipython3",
   "version": "3.12.4"
  }
 },
 "nbformat": 4,
 "nbformat_minor": 5
}
