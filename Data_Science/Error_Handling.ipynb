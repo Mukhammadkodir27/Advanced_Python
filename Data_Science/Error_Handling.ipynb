{
 "cells": [
  {
   "cell_type": "code",
   "execution_count": 85,
   "id": "0ed41d6b-d4e5-4c6b-a6c6-70478624f9d2",
   "metadata": {},
   "outputs": [
    {
     "name": "stdin",
     "output_type": "stream",
     "text": [
      "age:  12\n"
     ]
    },
    {
     "name": "stdout",
     "output_type": "stream",
     "text": [
      "Success! No exceptions here\n"
     ]
    }
   ],
   "source": [
    "# Exception Handling\n",
    "import sys\n",
    "\n",
    "try:\n",
    "    pass\n",
    "except:\n",
    "    pass\n",
    "else:\n",
    "    pass\n",
    "finally:\n",
    "    pass\n",
    "\n",
    "try:\n",
    "    age = int(input(\"age: \"))\n",
    "except ValueError as value_error:\n",
    "    print(\"Value Error!\", \"......\", value_error, \"......\", type(value_error))\n",
    "else:\n",
    "    print(\"Success! No exceptions here\")"
   ]
  },
  {
   "cell_type": "code",
   "execution_count": 89,
   "id": "6f6c67f3-a064-4221-b314-513656a52aba",
   "metadata": {},
   "outputs": [
    {
     "name": "stdin",
     "output_type": "stream",
     "text": [
      " 12.2\n"
     ]
    },
    {
     "name": "stdout",
     "output_type": "stream",
     "text": [
      "<class 'ValueError'>\n"
     ]
    }
   ],
   "source": [
    "try:\n",
    "    age = int(input())\n",
    "except:\n",
    "    print(sys.exc_info()[0])"
   ]
  },
  {
   "cell_type": "code",
   "execution_count": 97,
   "id": "7434dd74-f35e-41e5-b954-acef5f552809",
   "metadata": {},
   "outputs": [
    {
     "name": "stdout",
     "output_type": "stream",
     "text": [
      "The elemen value is:  1\n",
      "The elemen value is:  2\n",
      "The elemen value is:  3\n",
      "The elemen value is:  4\n",
      "The elemen value is:  5\n",
      "The elemen value is:  a\n",
      "<class 'ValueError'> occured!\n"
     ]
    }
   ],
   "source": [
    "random_list = [1, 2, 3, 4, 5, 'a']\n",
    "for n in random_list:\n",
    "    try:\n",
    "        print(\"The elemen value is: \", n)\n",
    "        r = int(n)\n",
    "    except Exception as exception_error:\n",
    "        print(exception_error.__class__, \"occured!\")"
   ]
  },
  {
   "cell_type": "code",
   "execution_count": 101,
   "id": "694c58d6-bcf0-4243-8241-8dd130ff9110",
   "metadata": {},
   "outputs": [
    {
     "name": "stdin",
     "output_type": "stream",
     "text": [
      "Any integer value only:  0\n"
     ]
    },
    {
     "name": "stdout",
     "output_type": "stream",
     "text": [
      "<class 'ZeroDivisionError'>\n"
     ]
    }
   ],
   "source": [
    "try:\n",
    "    n = int(input(\"Any integer value only: \"))\n",
    "    result = 100 / n\n",
    "except ValueError as value_error:\n",
    "    print(value_error.__class__)\n",
    "except ZeroDivisionError as zero_division_error:\n",
    "    print(zero_division_error.__class__)\n",
    "else:\n",
    "    print(\"Success! No exceptions\")"
   ]
  },
  {
   "cell_type": "code",
   "execution_count": 103,
   "id": "9dde03ec-8f97-45a9-9aa4-288e254b70aa",
   "metadata": {},
   "outputs": [
    {
     "name": "stdin",
     "output_type": "stream",
     "text": [
      " 12\n"
     ]
    },
    {
     "name": "stdout",
     "output_type": "stream",
     "text": [
      "Success! No exceptions\n"
     ]
    }
   ],
   "source": [
    "# tuple of error handling\n",
    "try:\n",
    "    n = int(input())\n",
    "    result = 100/n\n",
    "except (ValueError, ZeroDivisionError, Exception) as error:\n",
    "    print(error.__class__)\n",
    "else:\n",
    "    print(\"Success! No exceptions\")\n"
   ]
  },
  {
   "cell_type": "code",
   "execution_count": null,
   "id": "a520b607-79d9-4e41-a53e-50f9d24bd9e7",
   "metadata": {},
   "outputs": [],
   "source": [
    "# finally: \n",
    "# -- finally clause runs no matter there is exception or there is no exception. It always runs\n",
    "# try: except: else: finally:"
   ]
  },
  {
   "cell_type": "code",
   "execution_count": 141,
   "id": "14440739-1696-4a76-902f-01bd259b0ea3",
   "metadata": {},
   "outputs": [
    {
     "name": "stdout",
     "output_type": "stream",
     "text": [
      "<class 'FileNotFoundError'>\n"
     ]
    },
    {
     "ename": "NameError",
     "evalue": "name 'temp_file' is not defined",
     "output_type": "error",
     "traceback": [
      "\u001b[1;31m---------------------------------------------------------------------------\u001b[0m",
      "\u001b[1;31mNameError\u001b[0m                                 Traceback (most recent call last)",
      "Cell \u001b[1;32mIn[141], line 9\u001b[0m\n\u001b[0;32m      7\u001b[0m     \u001b[38;5;28mprint\u001b[39m(\u001b[38;5;124m\"\u001b[39m\u001b[38;5;124mSuccess!\u001b[39m\u001b[38;5;124m\"\u001b[39m)\n\u001b[0;32m      8\u001b[0m \u001b[38;5;28;01mfinally\u001b[39;00m:\n\u001b[1;32m----> 9\u001b[0m     temp_file\u001b[38;5;241m.\u001b[39mclose()\n",
      "\u001b[1;31mNameError\u001b[0m: name 'temp_file' is not defined"
     ]
    }
   ],
   "source": [
    "# you can use Exception when you dont know which exception to mention\n",
    "try: \n",
    "    temp_file = open(\"Data.txt\")\n",
    "    n = int(input())\n",
    "except (ValueError, ZeroDivisionError, Exception) as error:\n",
    "    print(error.__class__)\n",
    "else:\n",
    "    print(\"Success!\")\n",
    "finally:\n",
    "    temp_file.close()"
   ]
  },
  {
   "cell_type": "code",
   "execution_count": 127,
   "id": "69103468-266a-4bde-bc8f-daf83b516e8a",
   "metadata": {},
   "outputs": [
    {
     "name": "stdout",
     "output_type": "stream",
     "text": [
      "<class 'FileNotFoundError'>\n"
     ]
    }
   ],
   "source": [
    "try:\n",
    "    with open(\"Data.txt\") as temp_file:\n",
    "        print(\"File Opened!\")\n",
    "    n = int(input())\n",
    "    result = 100 / n\n",
    "except (ValueError, ZeroDivisionError) as error:\n",
    "    print(error.__class__)\n",
    "except FileNotFoundError as file_not_found:\n",
    "    print(file_not_found.__class__)\n",
    "else:\n",
    "    print(\"Success!\")"
   ]
  },
  {
   "cell_type": "code",
   "execution_count": 151,
   "id": "5ae09e02-31ef-460e-8f11-aa7b6664b5bb",
   "metadata": {},
   "outputs": [
    {
     "name": "stdout",
     "output_type": "stream",
     "text": [
      "<class 'FileNotFoundError'>\n"
     ]
    }
   ],
   "source": [
    "try: \n",
    "    with open(\"Data.txt\") as data_file, open(\"Data.csv\") as csv_file, open(\"Data.json\") as json_file:\n",
    "        print(\"Files Opened!\")\n",
    "except Exception as error:\n",
    "    print(error.__class__)\n",
    "else:\n",
    "    print(\"Success\")\n"
   ]
  },
  {
   "cell_type": "code",
   "execution_count": 153,
   "id": "6c6c8bbc-d354-4ea2-a5d3-3f310fad636f",
   "metadata": {},
   "outputs": [],
   "source": [
    "# so far we know:\n",
    "# ValueError\n",
    "# ZeroDivisionError\n",
    "# FileNotFoundError\n",
    "# Exception"
   ]
  }
 ],
 "metadata": {
  "kernelspec": {
   "display_name": "Python 3 (ipykernel)",
   "language": "python",
   "name": "python3"
  },
  "language_info": {
   "codemirror_mode": {
    "name": "ipython",
    "version": 3
   },
   "file_extension": ".py",
   "mimetype": "text/x-python",
   "name": "python",
   "nbconvert_exporter": "python",
   "pygments_lexer": "ipython3",
   "version": "3.12.4"
  }
 },
 "nbformat": 4,
 "nbformat_minor": 5
}
