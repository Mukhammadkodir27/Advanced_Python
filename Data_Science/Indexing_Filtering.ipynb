{
 "cells": [
  {
   "cell_type": "markdown",
   "id": "8f2e30ad-3fca-46db-8db8-c4a4b10e89db",
   "metadata": {},
   "source": [
    "# Reading CSV Data"
   ]
  },
  {
   "cell_type": "code",
   "execution_count": 3,
   "id": "86181137-5c25-4c3b-8f12-6d3482742f26",
   "metadata": {},
   "outputs": [],
   "source": [
    "import pandas as pd\n",
    "from pathlib import Path\n",
    "import os"
   ]
  },
  {
   "cell_type": "code",
   "execution_count": 11,
   "id": "00052f66-0242-4d14-b0ce-b70b174d3124",
   "metadata": {},
   "outputs": [],
   "source": [
    "csv_path = Path(\"user_info/artwork_data.csv\")"
   ]
  },
  {
   "cell_type": "code",
   "execution_count": 21,
   "id": "ef000e8c-c3f6-42cf-b0f8-4f447cea5a03",
   "metadata": {},
   "outputs": [
    {
     "data": {
      "text/html": [
       "<div>\n",
       "<style scoped>\n",
       "    .dataframe tbody tr th:only-of-type {\n",
       "        vertical-align: middle;\n",
       "    }\n",
       "\n",
       "    .dataframe tbody tr th {\n",
       "        vertical-align: top;\n",
       "    }\n",
       "\n",
       "    .dataframe thead th {\n",
       "        text-align: right;\n",
       "    }\n",
       "</style>\n",
       "<table border=\"1\" class=\"dataframe\">\n",
       "  <thead>\n",
       "    <tr style=\"text-align: right;\">\n",
       "      <th></th>\n",
       "      <th>id</th>\n",
       "      <th>accession_number</th>\n",
       "      <th>artist</th>\n",
       "      <th>artistRole</th>\n",
       "      <th>artistId</th>\n",
       "      <th>title</th>\n",
       "      <th>dateText</th>\n",
       "      <th>medium</th>\n",
       "      <th>creditLine</th>\n",
       "      <th>year</th>\n",
       "      <th>acquisitionYear</th>\n",
       "      <th>dimensions</th>\n",
       "      <th>width</th>\n",
       "      <th>height</th>\n",
       "      <th>depth</th>\n",
       "      <th>units</th>\n",
       "      <th>inscription</th>\n",
       "      <th>thumbnailCopyright</th>\n",
       "      <th>thumbnailUrl</th>\n",
       "      <th>url</th>\n",
       "    </tr>\n",
       "  </thead>\n",
       "  <tbody>\n",
       "    <tr>\n",
       "      <th>0</th>\n",
       "      <td>1035</td>\n",
       "      <td>A00001</td>\n",
       "      <td>Blake, Robert</td>\n",
       "      <td>artist</td>\n",
       "      <td>38</td>\n",
       "      <td>A Figure Bowing before a Seated Old Man with h...</td>\n",
       "      <td>date not known</td>\n",
       "      <td>Watercolour, ink, chalk and graphite on paper....</td>\n",
       "      <td>Presented by Mrs John Richmond 1922</td>\n",
       "      <td>NaN</td>\n",
       "      <td>1922</td>\n",
       "      <td>support: 394 x 419 mm</td>\n",
       "      <td>394</td>\n",
       "      <td>419</td>\n",
       "      <td>NaN</td>\n",
       "      <td>mm</td>\n",
       "      <td>NaN</td>\n",
       "      <td>NaN</td>\n",
       "      <td>http://www.tate.org.uk/art/images/work/A/A00/A...</td>\n",
       "      <td>http://www.tate.org.uk/art/artworks/blake-a-fi...</td>\n",
       "    </tr>\n",
       "    <tr>\n",
       "      <th>1</th>\n",
       "      <td>1036</td>\n",
       "      <td>A00002</td>\n",
       "      <td>Blake, Robert</td>\n",
       "      <td>artist</td>\n",
       "      <td>38</td>\n",
       "      <td>Two Drawings of Frightened Figures, Probably f...</td>\n",
       "      <td>date not known</td>\n",
       "      <td>Graphite on paper</td>\n",
       "      <td>Presented by Mrs John Richmond 1922</td>\n",
       "      <td>NaN</td>\n",
       "      <td>1922</td>\n",
       "      <td>support: 311 x 213 mm</td>\n",
       "      <td>311</td>\n",
       "      <td>213</td>\n",
       "      <td>NaN</td>\n",
       "      <td>mm</td>\n",
       "      <td>NaN</td>\n",
       "      <td>NaN</td>\n",
       "      <td>http://www.tate.org.uk/art/images/work/A/A00/A...</td>\n",
       "      <td>http://www.tate.org.uk/art/artworks/blake-two-...</td>\n",
       "    </tr>\n",
       "    <tr>\n",
       "      <th>2</th>\n",
       "      <td>1037</td>\n",
       "      <td>A00003</td>\n",
       "      <td>Blake, Robert</td>\n",
       "      <td>artist</td>\n",
       "      <td>38</td>\n",
       "      <td>The Preaching of Warning. Verso: An Old Man En...</td>\n",
       "      <td>?c.1785</td>\n",
       "      <td>Graphite on paper. Verso: graphite on paper</td>\n",
       "      <td>Presented by Mrs John Richmond 1922</td>\n",
       "      <td>1785.0</td>\n",
       "      <td>1922</td>\n",
       "      <td>support: 343 x 467 mm</td>\n",
       "      <td>343</td>\n",
       "      <td>467</td>\n",
       "      <td>NaN</td>\n",
       "      <td>mm</td>\n",
       "      <td>NaN</td>\n",
       "      <td>NaN</td>\n",
       "      <td>http://www.tate.org.uk/art/images/work/A/A00/A...</td>\n",
       "      <td>http://www.tate.org.uk/art/artworks/blake-the-...</td>\n",
       "    </tr>\n",
       "    <tr>\n",
       "      <th>3</th>\n",
       "      <td>1038</td>\n",
       "      <td>A00004</td>\n",
       "      <td>Blake, Robert</td>\n",
       "      <td>artist</td>\n",
       "      <td>38</td>\n",
       "      <td>Six Drawings of Figures with Outstretched Arms</td>\n",
       "      <td>date not known</td>\n",
       "      <td>Graphite on paper</td>\n",
       "      <td>Presented by Mrs John Richmond 1922</td>\n",
       "      <td>NaN</td>\n",
       "      <td>1922</td>\n",
       "      <td>support: 318 x 394 mm</td>\n",
       "      <td>318</td>\n",
       "      <td>394</td>\n",
       "      <td>NaN</td>\n",
       "      <td>mm</td>\n",
       "      <td>NaN</td>\n",
       "      <td>NaN</td>\n",
       "      <td>http://www.tate.org.uk/art/images/work/A/A00/A...</td>\n",
       "      <td>http://www.tate.org.uk/art/artworks/blake-six-...</td>\n",
       "    </tr>\n",
       "    <tr>\n",
       "      <th>4</th>\n",
       "      <td>1039</td>\n",
       "      <td>A00005</td>\n",
       "      <td>Blake, William</td>\n",
       "      <td>artist</td>\n",
       "      <td>39</td>\n",
       "      <td>The Circle of the Lustful: Francesca da Rimini...</td>\n",
       "      <td>1826–7, reprinted 1892</td>\n",
       "      <td>Line engraving on paper</td>\n",
       "      <td>Purchased with the assistance of a special gra...</td>\n",
       "      <td>1826.0</td>\n",
       "      <td>1919</td>\n",
       "      <td>image: 243 x 335 mm</td>\n",
       "      <td>243</td>\n",
       "      <td>335</td>\n",
       "      <td>NaN</td>\n",
       "      <td>mm</td>\n",
       "      <td>NaN</td>\n",
       "      <td>NaN</td>\n",
       "      <td>http://www.tate.org.uk/art/images/work/A/A00/A...</td>\n",
       "      <td>http://www.tate.org.uk/art/artworks/blake-the-...</td>\n",
       "    </tr>\n",
       "  </tbody>\n",
       "</table>\n",
       "</div>"
      ],
      "text/plain": [
       "     id accession_number          artist artistRole  artistId  \\\n",
       "0  1035           A00001   Blake, Robert     artist        38   \n",
       "1  1036           A00002   Blake, Robert     artist        38   \n",
       "2  1037           A00003   Blake, Robert     artist        38   \n",
       "3  1038           A00004   Blake, Robert     artist        38   \n",
       "4  1039           A00005  Blake, William     artist        39   \n",
       "\n",
       "                                               title                dateText  \\\n",
       "0  A Figure Bowing before a Seated Old Man with h...          date not known   \n",
       "1  Two Drawings of Frightened Figures, Probably f...          date not known   \n",
       "2  The Preaching of Warning. Verso: An Old Man En...                 ?c.1785   \n",
       "3     Six Drawings of Figures with Outstretched Arms          date not known   \n",
       "4  The Circle of the Lustful: Francesca da Rimini...  1826–7, reprinted 1892   \n",
       "\n",
       "                                              medium  \\\n",
       "0  Watercolour, ink, chalk and graphite on paper....   \n",
       "1                                  Graphite on paper   \n",
       "2        Graphite on paper. Verso: graphite on paper   \n",
       "3                                  Graphite on paper   \n",
       "4                            Line engraving on paper   \n",
       "\n",
       "                                          creditLine    year  acquisitionYear  \\\n",
       "0                Presented by Mrs John Richmond 1922     NaN             1922   \n",
       "1                Presented by Mrs John Richmond 1922     NaN             1922   \n",
       "2                Presented by Mrs John Richmond 1922  1785.0             1922   \n",
       "3                Presented by Mrs John Richmond 1922     NaN             1922   \n",
       "4  Purchased with the assistance of a special gra...  1826.0             1919   \n",
       "\n",
       "              dimensions  width  height  depth units  inscription  \\\n",
       "0  support: 394 x 419 mm    394     419    NaN    mm          NaN   \n",
       "1  support: 311 x 213 mm    311     213    NaN    mm          NaN   \n",
       "2  support: 343 x 467 mm    343     467    NaN    mm          NaN   \n",
       "3  support: 318 x 394 mm    318     394    NaN    mm          NaN   \n",
       "4    image: 243 x 335 mm    243     335    NaN    mm          NaN   \n",
       "\n",
       "   thumbnailCopyright                                       thumbnailUrl  \\\n",
       "0                 NaN  http://www.tate.org.uk/art/images/work/A/A00/A...   \n",
       "1                 NaN  http://www.tate.org.uk/art/images/work/A/A00/A...   \n",
       "2                 NaN  http://www.tate.org.uk/art/images/work/A/A00/A...   \n",
       "3                 NaN  http://www.tate.org.uk/art/images/work/A/A00/A...   \n",
       "4                 NaN  http://www.tate.org.uk/art/images/work/A/A00/A...   \n",
       "\n",
       "                                                 url  \n",
       "0  http://www.tate.org.uk/art/artworks/blake-a-fi...  \n",
       "1  http://www.tate.org.uk/art/artworks/blake-two-...  \n",
       "2  http://www.tate.org.uk/art/artworks/blake-the-...  \n",
       "3  http://www.tate.org.uk/art/artworks/blake-six-...  \n",
       "4  http://www.tate.org.uk/art/artworks/blake-the-...  "
      ]
     },
     "execution_count": 21,
     "metadata": {},
     "output_type": "execute_result"
    }
   ],
   "source": [
    "df = pd.read_csv(csv_path, nrows=5)\n",
    "df"
   ]
  },
  {
   "cell_type": "code",
   "execution_count": 29,
   "id": "c8531e1d-217d-41d0-9d32-9690840fd0eb",
   "metadata": {},
   "outputs": [
    {
     "data": {
      "text/html": [
       "<div>\n",
       "<style scoped>\n",
       "    .dataframe tbody tr th:only-of-type {\n",
       "        vertical-align: middle;\n",
       "    }\n",
       "\n",
       "    .dataframe tbody tr th {\n",
       "        vertical-align: top;\n",
       "    }\n",
       "\n",
       "    .dataframe thead th {\n",
       "        text-align: right;\n",
       "    }\n",
       "</style>\n",
       "<table border=\"1\" class=\"dataframe\">\n",
       "  <thead>\n",
       "    <tr style=\"text-align: right;\">\n",
       "      <th></th>\n",
       "      <th>accession_number</th>\n",
       "      <th>artist</th>\n",
       "      <th>artistRole</th>\n",
       "      <th>artistId</th>\n",
       "      <th>title</th>\n",
       "      <th>dateText</th>\n",
       "      <th>medium</th>\n",
       "      <th>creditLine</th>\n",
       "      <th>year</th>\n",
       "      <th>acquisitionYear</th>\n",
       "      <th>dimensions</th>\n",
       "      <th>width</th>\n",
       "      <th>height</th>\n",
       "      <th>depth</th>\n",
       "      <th>units</th>\n",
       "      <th>inscription</th>\n",
       "      <th>thumbnailCopyright</th>\n",
       "      <th>thumbnailUrl</th>\n",
       "      <th>url</th>\n",
       "    </tr>\n",
       "    <tr>\n",
       "      <th>id</th>\n",
       "      <th></th>\n",
       "      <th></th>\n",
       "      <th></th>\n",
       "      <th></th>\n",
       "      <th></th>\n",
       "      <th></th>\n",
       "      <th></th>\n",
       "      <th></th>\n",
       "      <th></th>\n",
       "      <th></th>\n",
       "      <th></th>\n",
       "      <th></th>\n",
       "      <th></th>\n",
       "      <th></th>\n",
       "      <th></th>\n",
       "      <th></th>\n",
       "      <th></th>\n",
       "      <th></th>\n",
       "      <th></th>\n",
       "    </tr>\n",
       "  </thead>\n",
       "  <tbody>\n",
       "    <tr>\n",
       "      <th>1035</th>\n",
       "      <td>A00001</td>\n",
       "      <td>Blake, Robert</td>\n",
       "      <td>artist</td>\n",
       "      <td>38</td>\n",
       "      <td>A Figure Bowing before a Seated Old Man with h...</td>\n",
       "      <td>date not known</td>\n",
       "      <td>Watercolour, ink, chalk and graphite on paper....</td>\n",
       "      <td>Presented by Mrs John Richmond 1922</td>\n",
       "      <td>NaN</td>\n",
       "      <td>1922</td>\n",
       "      <td>support: 394 x 419 mm</td>\n",
       "      <td>394</td>\n",
       "      <td>419</td>\n",
       "      <td>NaN</td>\n",
       "      <td>mm</td>\n",
       "      <td>NaN</td>\n",
       "      <td>NaN</td>\n",
       "      <td>http://www.tate.org.uk/art/images/work/A/A00/A...</td>\n",
       "      <td>http://www.tate.org.uk/art/artworks/blake-a-fi...</td>\n",
       "    </tr>\n",
       "    <tr>\n",
       "      <th>1036</th>\n",
       "      <td>A00002</td>\n",
       "      <td>Blake, Robert</td>\n",
       "      <td>artist</td>\n",
       "      <td>38</td>\n",
       "      <td>Two Drawings of Frightened Figures, Probably f...</td>\n",
       "      <td>date not known</td>\n",
       "      <td>Graphite on paper</td>\n",
       "      <td>Presented by Mrs John Richmond 1922</td>\n",
       "      <td>NaN</td>\n",
       "      <td>1922</td>\n",
       "      <td>support: 311 x 213 mm</td>\n",
       "      <td>311</td>\n",
       "      <td>213</td>\n",
       "      <td>NaN</td>\n",
       "      <td>mm</td>\n",
       "      <td>NaN</td>\n",
       "      <td>NaN</td>\n",
       "      <td>http://www.tate.org.uk/art/images/work/A/A00/A...</td>\n",
       "      <td>http://www.tate.org.uk/art/artworks/blake-two-...</td>\n",
       "    </tr>\n",
       "    <tr>\n",
       "      <th>1037</th>\n",
       "      <td>A00003</td>\n",
       "      <td>Blake, Robert</td>\n",
       "      <td>artist</td>\n",
       "      <td>38</td>\n",
       "      <td>The Preaching of Warning. Verso: An Old Man En...</td>\n",
       "      <td>?c.1785</td>\n",
       "      <td>Graphite on paper. Verso: graphite on paper</td>\n",
       "      <td>Presented by Mrs John Richmond 1922</td>\n",
       "      <td>1785.0</td>\n",
       "      <td>1922</td>\n",
       "      <td>support: 343 x 467 mm</td>\n",
       "      <td>343</td>\n",
       "      <td>467</td>\n",
       "      <td>NaN</td>\n",
       "      <td>mm</td>\n",
       "      <td>NaN</td>\n",
       "      <td>NaN</td>\n",
       "      <td>http://www.tate.org.uk/art/images/work/A/A00/A...</td>\n",
       "      <td>http://www.tate.org.uk/art/artworks/blake-the-...</td>\n",
       "    </tr>\n",
       "    <tr>\n",
       "      <th>1038</th>\n",
       "      <td>A00004</td>\n",
       "      <td>Blake, Robert</td>\n",
       "      <td>artist</td>\n",
       "      <td>38</td>\n",
       "      <td>Six Drawings of Figures with Outstretched Arms</td>\n",
       "      <td>date not known</td>\n",
       "      <td>Graphite on paper</td>\n",
       "      <td>Presented by Mrs John Richmond 1922</td>\n",
       "      <td>NaN</td>\n",
       "      <td>1922</td>\n",
       "      <td>support: 318 x 394 mm</td>\n",
       "      <td>318</td>\n",
       "      <td>394</td>\n",
       "      <td>NaN</td>\n",
       "      <td>mm</td>\n",
       "      <td>NaN</td>\n",
       "      <td>NaN</td>\n",
       "      <td>http://www.tate.org.uk/art/images/work/A/A00/A...</td>\n",
       "      <td>http://www.tate.org.uk/art/artworks/blake-six-...</td>\n",
       "    </tr>\n",
       "    <tr>\n",
       "      <th>1039</th>\n",
       "      <td>A00005</td>\n",
       "      <td>Blake, William</td>\n",
       "      <td>artist</td>\n",
       "      <td>39</td>\n",
       "      <td>The Circle of the Lustful: Francesca da Rimini...</td>\n",
       "      <td>1826–7, reprinted 1892</td>\n",
       "      <td>Line engraving on paper</td>\n",
       "      <td>Purchased with the assistance of a special gra...</td>\n",
       "      <td>1826.0</td>\n",
       "      <td>1919</td>\n",
       "      <td>image: 243 x 335 mm</td>\n",
       "      <td>243</td>\n",
       "      <td>335</td>\n",
       "      <td>NaN</td>\n",
       "      <td>mm</td>\n",
       "      <td>NaN</td>\n",
       "      <td>NaN</td>\n",
       "      <td>http://www.tate.org.uk/art/images/work/A/A00/A...</td>\n",
       "      <td>http://www.tate.org.uk/art/artworks/blake-the-...</td>\n",
       "    </tr>\n",
       "  </tbody>\n",
       "</table>\n",
       "</div>"
      ],
      "text/plain": [
       "     accession_number          artist artistRole  artistId  \\\n",
       "id                                                           \n",
       "1035           A00001   Blake, Robert     artist        38   \n",
       "1036           A00002   Blake, Robert     artist        38   \n",
       "1037           A00003   Blake, Robert     artist        38   \n",
       "1038           A00004   Blake, Robert     artist        38   \n",
       "1039           A00005  Blake, William     artist        39   \n",
       "\n",
       "                                                  title  \\\n",
       "id                                                        \n",
       "1035  A Figure Bowing before a Seated Old Man with h...   \n",
       "1036  Two Drawings of Frightened Figures, Probably f...   \n",
       "1037  The Preaching of Warning. Verso: An Old Man En...   \n",
       "1038     Six Drawings of Figures with Outstretched Arms   \n",
       "1039  The Circle of the Lustful: Francesca da Rimini...   \n",
       "\n",
       "                    dateText  \\\n",
       "id                             \n",
       "1035          date not known   \n",
       "1036          date not known   \n",
       "1037                 ?c.1785   \n",
       "1038          date not known   \n",
       "1039  1826–7, reprinted 1892   \n",
       "\n",
       "                                                 medium  \\\n",
       "id                                                        \n",
       "1035  Watercolour, ink, chalk and graphite on paper....   \n",
       "1036                                  Graphite on paper   \n",
       "1037        Graphite on paper. Verso: graphite on paper   \n",
       "1038                                  Graphite on paper   \n",
       "1039                            Line engraving on paper   \n",
       "\n",
       "                                             creditLine    year  \\\n",
       "id                                                                \n",
       "1035                Presented by Mrs John Richmond 1922     NaN   \n",
       "1036                Presented by Mrs John Richmond 1922     NaN   \n",
       "1037                Presented by Mrs John Richmond 1922  1785.0   \n",
       "1038                Presented by Mrs John Richmond 1922     NaN   \n",
       "1039  Purchased with the assistance of a special gra...  1826.0   \n",
       "\n",
       "      acquisitionYear             dimensions  width  height  depth units  \\\n",
       "id                                                                         \n",
       "1035             1922  support: 394 x 419 mm    394     419    NaN    mm   \n",
       "1036             1922  support: 311 x 213 mm    311     213    NaN    mm   \n",
       "1037             1922  support: 343 x 467 mm    343     467    NaN    mm   \n",
       "1038             1922  support: 318 x 394 mm    318     394    NaN    mm   \n",
       "1039             1919    image: 243 x 335 mm    243     335    NaN    mm   \n",
       "\n",
       "      inscription  thumbnailCopyright  \\\n",
       "id                                      \n",
       "1035          NaN                 NaN   \n",
       "1036          NaN                 NaN   \n",
       "1037          NaN                 NaN   \n",
       "1038          NaN                 NaN   \n",
       "1039          NaN                 NaN   \n",
       "\n",
       "                                           thumbnailUrl  \\\n",
       "id                                                        \n",
       "1035  http://www.tate.org.uk/art/images/work/A/A00/A...   \n",
       "1036  http://www.tate.org.uk/art/images/work/A/A00/A...   \n",
       "1037  http://www.tate.org.uk/art/images/work/A/A00/A...   \n",
       "1038  http://www.tate.org.uk/art/images/work/A/A00/A...   \n",
       "1039  http://www.tate.org.uk/art/images/work/A/A00/A...   \n",
       "\n",
       "                                                    url  \n",
       "id                                                       \n",
       "1035  http://www.tate.org.uk/art/artworks/blake-a-fi...  \n",
       "1036  http://www.tate.org.uk/art/artworks/blake-two-...  \n",
       "1037  http://www.tate.org.uk/art/artworks/blake-the-...  \n",
       "1038  http://www.tate.org.uk/art/artworks/blake-six-...  \n",
       "1039  http://www.tate.org.uk/art/artworks/blake-the-...  "
      ]
     },
     "execution_count": 29,
     "metadata": {},
     "output_type": "execute_result"
    }
   ],
   "source": [
    "df = pd.read_csv(csv_path, nrows=5, index_col=\"id\")\n",
    "df"
   ]
  },
  {
   "cell_type": "code",
   "execution_count": 39,
   "id": "fac9a48e-a632-496d-a931-62e52a9518d1",
   "metadata": {},
   "outputs": [
    {
     "data": {
      "text/html": [
       "<div>\n",
       "<style scoped>\n",
       "    .dataframe tbody tr th:only-of-type {\n",
       "        vertical-align: middle;\n",
       "    }\n",
       "\n",
       "    .dataframe tbody tr th {\n",
       "        vertical-align: top;\n",
       "    }\n",
       "\n",
       "    .dataframe thead th {\n",
       "        text-align: right;\n",
       "    }\n",
       "</style>\n",
       "<table border=\"1\" class=\"dataframe\">\n",
       "  <thead>\n",
       "    <tr style=\"text-align: right;\">\n",
       "      <th></th>\n",
       "      <th>artist</th>\n",
       "    </tr>\n",
       "    <tr>\n",
       "      <th>id</th>\n",
       "      <th></th>\n",
       "    </tr>\n",
       "  </thead>\n",
       "  <tbody>\n",
       "    <tr>\n",
       "      <th>1035</th>\n",
       "      <td>Blake, Robert</td>\n",
       "    </tr>\n",
       "    <tr>\n",
       "      <th>1036</th>\n",
       "      <td>Blake, Robert</td>\n",
       "    </tr>\n",
       "    <tr>\n",
       "      <th>1037</th>\n",
       "      <td>Blake, Robert</td>\n",
       "    </tr>\n",
       "    <tr>\n",
       "      <th>1038</th>\n",
       "      <td>Blake, Robert</td>\n",
       "    </tr>\n",
       "    <tr>\n",
       "      <th>1039</th>\n",
       "      <td>Blake, William</td>\n",
       "    </tr>\n",
       "  </tbody>\n",
       "</table>\n",
       "</div>"
      ],
      "text/plain": [
       "              artist\n",
       "id                  \n",
       "1035   Blake, Robert\n",
       "1036   Blake, Robert\n",
       "1037   Blake, Robert\n",
       "1038   Blake, Robert\n",
       "1039  Blake, William"
      ]
     },
     "execution_count": 39,
     "metadata": {},
     "output_type": "execute_result"
    }
   ],
   "source": [
    "df = pd.read_csv(csv_path, nrows=5, index_col=\"id\", usecols=[\"id\", \"artist\"])\n",
    "df"
   ]
  },
  {
   "cell_type": "code",
   "execution_count": 43,
   "id": "3a1dad78-d82f-40c8-94fa-b96af48dc5f7",
   "metadata": {},
   "outputs": [],
   "source": [
    "cols_to_use = ['id', 'artist', 'title', 'medium', 'year', 'acquisitionYear', 'height', 'width', 'units']"
   ]
  },
  {
   "cell_type": "code",
   "execution_count": 49,
   "id": "5c334e98-965d-41b7-85bc-44d6629f6c7a",
   "metadata": {},
   "outputs": [
    {
     "name": "stderr",
     "output_type": "stream",
     "text": [
      "C:\\Users\\khali\\AppData\\Local\\Temp\\ipykernel_19000\\1530296958.py:1: DtypeWarning: Columns (9,13) have mixed types. Specify dtype option on import or set low_memory=False.\n",
      "  df = pd.read_csv(csv_path, index_col='id', usecols=cols_to_use)\n"
     ]
    },
    {
     "data": {
      "text/html": [
       "<div>\n",
       "<style scoped>\n",
       "    .dataframe tbody tr th:only-of-type {\n",
       "        vertical-align: middle;\n",
       "    }\n",
       "\n",
       "    .dataframe tbody tr th {\n",
       "        vertical-align: top;\n",
       "    }\n",
       "\n",
       "    .dataframe thead th {\n",
       "        text-align: right;\n",
       "    }\n",
       "</style>\n",
       "<table border=\"1\" class=\"dataframe\">\n",
       "  <thead>\n",
       "    <tr style=\"text-align: right;\">\n",
       "      <th></th>\n",
       "      <th>artist</th>\n",
       "      <th>title</th>\n",
       "      <th>medium</th>\n",
       "      <th>year</th>\n",
       "      <th>acquisitionYear</th>\n",
       "      <th>width</th>\n",
       "      <th>height</th>\n",
       "      <th>units</th>\n",
       "    </tr>\n",
       "    <tr>\n",
       "      <th>id</th>\n",
       "      <th></th>\n",
       "      <th></th>\n",
       "      <th></th>\n",
       "      <th></th>\n",
       "      <th></th>\n",
       "      <th></th>\n",
       "      <th></th>\n",
       "      <th></th>\n",
       "    </tr>\n",
       "  </thead>\n",
       "  <tbody>\n",
       "    <tr>\n",
       "      <th>1035</th>\n",
       "      <td>Blake, Robert</td>\n",
       "      <td>A Figure Bowing before a Seated Old Man with h...</td>\n",
       "      <td>Watercolour, ink, chalk and graphite on paper....</td>\n",
       "      <td>NaN</td>\n",
       "      <td>1922.0</td>\n",
       "      <td>394</td>\n",
       "      <td>419.0</td>\n",
       "      <td>mm</td>\n",
       "    </tr>\n",
       "    <tr>\n",
       "      <th>1036</th>\n",
       "      <td>Blake, Robert</td>\n",
       "      <td>Two Drawings of Frightened Figures, Probably f...</td>\n",
       "      <td>Graphite on paper</td>\n",
       "      <td>NaN</td>\n",
       "      <td>1922.0</td>\n",
       "      <td>311</td>\n",
       "      <td>213.0</td>\n",
       "      <td>mm</td>\n",
       "    </tr>\n",
       "    <tr>\n",
       "      <th>1037</th>\n",
       "      <td>Blake, Robert</td>\n",
       "      <td>The Preaching of Warning. Verso: An Old Man En...</td>\n",
       "      <td>Graphite on paper. Verso: graphite on paper</td>\n",
       "      <td>1785.0</td>\n",
       "      <td>1922.0</td>\n",
       "      <td>343</td>\n",
       "      <td>467.0</td>\n",
       "      <td>mm</td>\n",
       "    </tr>\n",
       "    <tr>\n",
       "      <th>1038</th>\n",
       "      <td>Blake, Robert</td>\n",
       "      <td>Six Drawings of Figures with Outstretched Arms</td>\n",
       "      <td>Graphite on paper</td>\n",
       "      <td>NaN</td>\n",
       "      <td>1922.0</td>\n",
       "      <td>318</td>\n",
       "      <td>394.0</td>\n",
       "      <td>mm</td>\n",
       "    </tr>\n",
       "    <tr>\n",
       "      <th>1039</th>\n",
       "      <td>Blake, William</td>\n",
       "      <td>The Circle of the Lustful: Francesca da Rimini...</td>\n",
       "      <td>Line engraving on paper</td>\n",
       "      <td>1826.0</td>\n",
       "      <td>1919.0</td>\n",
       "      <td>243</td>\n",
       "      <td>335.0</td>\n",
       "      <td>mm</td>\n",
       "    </tr>\n",
       "    <tr>\n",
       "      <th>...</th>\n",
       "      <td>...</td>\n",
       "      <td>...</td>\n",
       "      <td>...</td>\n",
       "      <td>...</td>\n",
       "      <td>...</td>\n",
       "      <td>...</td>\n",
       "      <td>...</td>\n",
       "      <td>...</td>\n",
       "    </tr>\n",
       "    <tr>\n",
       "      <th>122960</th>\n",
       "      <td>P-Orridge, Genesis</td>\n",
       "      <td>Larvae (from Tampax Romana)</td>\n",
       "      <td>Perspex, Wood, hairpiece, tampon and human blood</td>\n",
       "      <td>1975</td>\n",
       "      <td>2013.0</td>\n",
       "      <td>305</td>\n",
       "      <td>305.0</td>\n",
       "      <td>mm</td>\n",
       "    </tr>\n",
       "    <tr>\n",
       "      <th>122961</th>\n",
       "      <td>P-Orridge, Genesis</td>\n",
       "      <td>Living Womb (from Tampax Romana)</td>\n",
       "      <td>Wood, Perspex, plastic, photograph on paper, t...</td>\n",
       "      <td>1976</td>\n",
       "      <td>2013.0</td>\n",
       "      <td>305</td>\n",
       "      <td>305.0</td>\n",
       "      <td>mm</td>\n",
       "    </tr>\n",
       "    <tr>\n",
       "      <th>121181</th>\n",
       "      <td>Hatoum, Mona</td>\n",
       "      <td>Present Tense</td>\n",
       "      <td>Soap and glass beads</td>\n",
       "      <td>1996</td>\n",
       "      <td>2013.0</td>\n",
       "      <td>45</td>\n",
       "      <td>2410.0</td>\n",
       "      <td>mm</td>\n",
       "    </tr>\n",
       "    <tr>\n",
       "      <th>112306</th>\n",
       "      <td>Creed, Martin</td>\n",
       "      <td>Work No. 227: The lights going on and off</td>\n",
       "      <td>Gallery lighting</td>\n",
       "      <td>2000</td>\n",
       "      <td>2013.0</td>\n",
       "      <td>NaN</td>\n",
       "      <td>NaN</td>\n",
       "      <td>NaN</td>\n",
       "    </tr>\n",
       "    <tr>\n",
       "      <th>127035</th>\n",
       "      <td>Brunias, Agostino</td>\n",
       "      <td>Dancing Scene in the West Indies</td>\n",
       "      <td>Oil paint on canvas</td>\n",
       "      <td>1764</td>\n",
       "      <td>2013.0</td>\n",
       "      <td>508</td>\n",
       "      <td>660.0</td>\n",
       "      <td>mm</td>\n",
       "    </tr>\n",
       "  </tbody>\n",
       "</table>\n",
       "<p>69201 rows × 8 columns</p>\n",
       "</div>"
      ],
      "text/plain": [
       "                    artist                                              title  \\\n",
       "id                                                                              \n",
       "1035         Blake, Robert  A Figure Bowing before a Seated Old Man with h...   \n",
       "1036         Blake, Robert  Two Drawings of Frightened Figures, Probably f...   \n",
       "1037         Blake, Robert  The Preaching of Warning. Verso: An Old Man En...   \n",
       "1038         Blake, Robert     Six Drawings of Figures with Outstretched Arms   \n",
       "1039        Blake, William  The Circle of the Lustful: Francesca da Rimini...   \n",
       "...                    ...                                                ...   \n",
       "122960  P-Orridge, Genesis                        Larvae (from Tampax Romana)   \n",
       "122961  P-Orridge, Genesis                   Living Womb (from Tampax Romana)   \n",
       "121181        Hatoum, Mona                                      Present Tense   \n",
       "112306       Creed, Martin          Work No. 227: The lights going on and off   \n",
       "127035   Brunias, Agostino                   Dancing Scene in the West Indies   \n",
       "\n",
       "                                                   medium    year  \\\n",
       "id                                                                  \n",
       "1035    Watercolour, ink, chalk and graphite on paper....     NaN   \n",
       "1036                                    Graphite on paper     NaN   \n",
       "1037          Graphite on paper. Verso: graphite on paper  1785.0   \n",
       "1038                                    Graphite on paper     NaN   \n",
       "1039                              Line engraving on paper  1826.0   \n",
       "...                                                   ...     ...   \n",
       "122960   Perspex, Wood, hairpiece, tampon and human blood    1975   \n",
       "122961  Wood, Perspex, plastic, photograph on paper, t...    1976   \n",
       "121181                               Soap and glass beads    1996   \n",
       "112306                                   Gallery lighting    2000   \n",
       "127035                                Oil paint on canvas    1764   \n",
       "\n",
       "        acquisitionYear width  height units  \n",
       "id                                           \n",
       "1035             1922.0   394   419.0    mm  \n",
       "1036             1922.0   311   213.0    mm  \n",
       "1037             1922.0   343   467.0    mm  \n",
       "1038             1922.0   318   394.0    mm  \n",
       "1039             1919.0   243   335.0    mm  \n",
       "...                 ...   ...     ...   ...  \n",
       "122960           2013.0   305   305.0    mm  \n",
       "122961           2013.0   305   305.0    mm  \n",
       "121181           2013.0    45  2410.0    mm  \n",
       "112306           2013.0   NaN     NaN   NaN  \n",
       "127035           2013.0   508   660.0    mm  \n",
       "\n",
       "[69201 rows x 8 columns]"
      ]
     },
     "execution_count": 49,
     "metadata": {},
     "output_type": "execute_result"
    }
   ],
   "source": [
    "df = pd.read_csv(csv_path, index_col='id', usecols=cols_to_use)\n",
    "df"
   ]
  },
  {
   "cell_type": "code",
   "execution_count": 51,
   "id": "b0593d80-918d-4564-b78d-cd4037b12dcb",
   "metadata": {},
   "outputs": [],
   "source": [
    "df.to_pickle(os.path.join('.', 'DataFrame.pickle'))"
   ]
  },
  {
   "cell_type": "markdown",
   "id": "0d4aeac9-92d1-4eb7-89ed-8182d15b5dfe",
   "metadata": {},
   "source": [
    "# Column Selection"
   ]
  },
  {
   "cell_type": "code",
   "execution_count": 58,
   "id": "23a01675-e832-4058-96d0-6a4bcb1fd366",
   "metadata": {},
   "outputs": [
    {
     "data": {
      "text/plain": [
       "id\n",
       "1035           Blake, Robert\n",
       "1036           Blake, Robert\n",
       "1037           Blake, Robert\n",
       "1038           Blake, Robert\n",
       "1039          Blake, William\n",
       "                 ...        \n",
       "122960    P-Orridge, Genesis\n",
       "122961    P-Orridge, Genesis\n",
       "121181          Hatoum, Mona\n",
       "112306         Creed, Martin\n",
       "127035     Brunias, Agostino\n",
       "Name: artist, Length: 69201, dtype: object"
      ]
     },
     "execution_count": 58,
     "metadata": {},
     "output_type": "execute_result"
    }
   ],
   "source": [
    "df['artist']  # df.artist"
   ]
  },
  {
   "cell_type": "code",
   "execution_count": 77,
   "id": "003e578f-d608-4b8a-87c6-37aeed4a43ea",
   "metadata": {},
   "outputs": [
    {
     "data": {
      "text/plain": [
       "array(['Blake, Robert', 'Blake, William', 'Richmond, George', ...,\n",
       "       'Sterne, Hedda', 'P-Orridge, Genesis', 'Brunias, Agostino'],\n",
       "      dtype=object)"
      ]
     },
     "execution_count": 77,
     "metadata": {},
     "output_type": "execute_result"
    }
   ],
   "source": [
    "artists = df['artist']\n",
    "# getting unique artists\n",
    "unique_artists = pd.unique(artists)\n",
    "unique_artists"
   ]
  },
  {
   "cell_type": "code",
   "execution_count": 75,
   "id": "7aef2d39-c15a-4a7c-b67c-7434f0d7d6b1",
   "metadata": {},
   "outputs": [
    {
     "data": {
      "text/plain": [
       "3336"
      ]
     },
     "execution_count": 75,
     "metadata": {},
     "output_type": "execute_result"
    }
   ],
   "source": [
    "# len is used to get the length of ...\n",
    "len(pd.unique(df['artist']))"
   ]
  },
  {
   "cell_type": "markdown",
   "id": "8c97cb49-6070-4c6f-9678-48cd31eb7af7",
   "metadata": {},
   "source": [
    "# Indexing"
   ]
  },
  {
   "cell_type": "code",
   "execution_count": 82,
   "id": "d8a8450e-caac-4651-b62d-ecdd0f914fea",
   "metadata": {},
   "outputs": [
    {
     "data": {
      "text/plain": [
       "'Blake, Robert'"
      ]
     },
     "execution_count": 82,
     "metadata": {},
     "output_type": "execute_result"
    }
   ],
   "source": [
    "# access row 1035 from \"artist\" column\n",
    "df.loc[1035, \"artist\"]"
   ]
  },
  {
   "cell_type": "code",
   "execution_count": 84,
   "id": "65bac1fb-8ce9-4a8d-848e-c0859c00302f",
   "metadata": {},
   "outputs": [
    {
     "data": {
      "text/plain": [
       "'Von Motesiczky, Marie-Louise'"
      ]
     },
     "execution_count": 84,
     "metadata": {},
     "output_type": "execute_result"
    }
   ],
   "source": [
    "# row 10342 column \"artist\"\n",
    "df.loc[10342, \"artist\"]"
   ]
  },
  {
   "cell_type": "code",
   "execution_count": 96,
   "id": "bc54f5a4-67a2-4922-92eb-699a43165567",
   "metadata": {},
   "outputs": [
    {
     "data": {
      "text/plain": [
       "'Blake, Robert'"
      ]
     },
     "execution_count": 96,
     "metadata": {},
     "output_type": "execute_result"
    }
   ],
   "source": [
    "# first row and first column\n",
    "df.iloc[0, 0]"
   ]
  },
  {
   "cell_type": "code",
   "execution_count": 104,
   "id": "a84bff83-f7bb-4f4d-aece-76f13fc428c7",
   "metadata": {},
   "outputs": [
    {
     "data": {
      "text/plain": [
       "artist                                                 Blake, Robert\n",
       "title              A Figure Bowing before a Seated Old Man with h...\n",
       "medium             Watercolour, ink, chalk and graphite on paper....\n",
       "year                                                             NaN\n",
       "acquisitionYear                                               1922.0\n",
       "width                                                            394\n",
       "height                                                         419.0\n",
       "units                                                             mm\n",
       "Name: 1035, dtype: object"
      ]
     },
     "execution_count": 104,
     "metadata": {},
     "output_type": "execute_result"
    }
   ],
   "source": [
    "# first row and all columns\n",
    "df.iloc[0, :]"
   ]
  },
  {
   "cell_type": "code",
   "execution_count": 106,
   "id": "39eea180-585e-4edf-97a2-164a8b241468",
   "metadata": {},
   "outputs": [
    {
     "data": {
      "text/html": [
       "<div>\n",
       "<style scoped>\n",
       "    .dataframe tbody tr th:only-of-type {\n",
       "        vertical-align: middle;\n",
       "    }\n",
       "\n",
       "    .dataframe tbody tr th {\n",
       "        vertical-align: top;\n",
       "    }\n",
       "\n",
       "    .dataframe thead th {\n",
       "        text-align: right;\n",
       "    }\n",
       "</style>\n",
       "<table border=\"1\" class=\"dataframe\">\n",
       "  <thead>\n",
       "    <tr style=\"text-align: right;\">\n",
       "      <th></th>\n",
       "      <th>artist</th>\n",
       "      <th>title</th>\n",
       "    </tr>\n",
       "    <tr>\n",
       "      <th>id</th>\n",
       "      <th></th>\n",
       "      <th></th>\n",
       "    </tr>\n",
       "  </thead>\n",
       "  <tbody>\n",
       "    <tr>\n",
       "      <th>1035</th>\n",
       "      <td>Blake, Robert</td>\n",
       "      <td>A Figure Bowing before a Seated Old Man with h...</td>\n",
       "    </tr>\n",
       "    <tr>\n",
       "      <th>1036</th>\n",
       "      <td>Blake, Robert</td>\n",
       "      <td>Two Drawings of Frightened Figures, Probably f...</td>\n",
       "    </tr>\n",
       "  </tbody>\n",
       "</table>\n",
       "</div>"
      ],
      "text/plain": [
       "             artist                                              title\n",
       "id                                                                    \n",
       "1035  Blake, Robert  A Figure Bowing before a Seated Old Man with h...\n",
       "1036  Blake, Robert  Two Drawings of Frightened Figures, Probably f..."
      ]
     },
     "execution_count": 106,
     "metadata": {},
     "output_type": "execute_result"
    }
   ],
   "source": [
    "# two rows and two columns\n",
    "df.iloc[0:2, 0:2]  # 0 and 1, 0 and 1, 2 is not counted"
   ]
  },
  {
   "cell_type": "code",
   "execution_count": 114,
   "id": "d46ddfe6-3f74-4d55-ad6a-b866270a2028",
   "metadata": {},
   "outputs": [],
   "source": [
    "df['height'] * df['width']\n",
    "# this will give error because height and width contain not clean data, numeric and non-numeric values"
   ]
  },
  {
   "cell_type": "markdown",
   "id": "e3dd8898-85dc-4e37-9357-43cbdc154f61",
   "metadata": {},
   "source": [
    "### Here we have to clean our data (by converting their data type)"
   ]
  },
  {
   "cell_type": "code",
   "execution_count": 126,
   "id": "698ed81b-27ac-429f-b546-991140987dfe",
   "metadata": {},
   "outputs": [
    {
     "data": {
      "text/plain": [
       "pandas.core.series.Series"
      ]
     },
     "execution_count": 126,
     "metadata": {},
     "output_type": "execute_result"
    }
   ],
   "source": [
    "type(df['height'])"
   ]
  },
  {
   "cell_type": "code",
   "execution_count": 122,
   "id": "8abf025d-8806-490d-9d7c-98767aab2381",
   "metadata": {},
   "outputs": [
    {
     "data": {
      "text/plain": [
       "id\n",
       "1035       419.0\n",
       "1036       213.0\n",
       "1037       467.0\n",
       "1038       394.0\n",
       "1039       335.0\n",
       "           ...  \n",
       "122960     305.0\n",
       "122961     305.0\n",
       "121181    2410.0\n",
       "112306       NaN\n",
       "127035     660.0\n",
       "Name: height, Length: 69201, dtype: object"
      ]
     },
     "execution_count": 122,
     "metadata": {},
     "output_type": "execute_result"
    }
   ],
   "source": [
    "df['height'] # here it says it is dtype of object still not sure which data type exactly"
   ]
  },
  {
   "cell_type": "code",
   "execution_count": 128,
   "id": "2392232e-f3a2-490e-a695-cf573914b9f0",
   "metadata": {},
   "outputs": [
    {
     "data": {
      "text/plain": [
       "pandas.core.series.Series"
      ]
     },
     "execution_count": 128,
     "metadata": {},
     "output_type": "execute_result"
    }
   ],
   "source": [
    "type(df['width'])"
   ]
  },
  {
   "cell_type": "code",
   "execution_count": 130,
   "id": "c959466a-4e7b-4035-84ba-4e70b24fe6c8",
   "metadata": {},
   "outputs": [
    {
     "data": {
      "text/plain": [
       "id\n",
       "1035      394\n",
       "1036      311\n",
       "1037      343\n",
       "1038      318\n",
       "1039      243\n",
       "         ... \n",
       "122960    305\n",
       "122961    305\n",
       "121181     45\n",
       "112306    NaN\n",
       "127035    508\n",
       "Name: width, Length: 69201, dtype: object"
      ]
     },
     "execution_count": 130,
     "metadata": {},
     "output_type": "execute_result"
    }
   ],
   "source": [
    "df['width']"
   ]
  },
  {
   "cell_type": "code",
   "execution_count": 151,
   "id": "43b63069-9cc8-4b49-a6a4-badc65e940d6",
   "metadata": {},
   "outputs": [
    {
     "data": {
      "text/plain": [
       "id\n",
       "20822            (1):\n",
       "105337    (diameter):\n",
       "98671         (each):\n",
       "76420         (each):\n",
       "91391        (image):\n",
       "Name: width, dtype: object"
      ]
     },
     "execution_count": 151,
     "metadata": {},
     "output_type": "execute_result"
    }
   ],
   "source": [
    "df['width'].sort_values().head()\n",
    "# we get unordered data again after sorting, because our data is not clean, and contains non-non numeric values\n",
    "# in the second column you can see, one is diameter, another each, another is image, another is 1, so different types\n"
   ]
  },
  {
   "attachments": {},
   "cell_type": "markdown",
   "id": "2c4cc5b4-772f-4f5f-aae8-865848b73a68",
   "metadata": {},
   "source": [
    "#### Here, to clean our data, we will select all non-numeric values and assign them a new data type called NaN (Not A Number) this means that our data will be separated, one goes for numeric values where we can perform our computations and other goes for garbage values which we can't use. Basically, those values are integers but technically they are not numeric, so computer does not know as of its naming, so what we will do is, when we convert them to NaN, it will skip those values. In other words, we dont count them in our operations"
   ]
  },
  {
   "cell_type": "code",
   "execution_count": 154,
   "id": "c91e4ce4-b4e6-446a-8b98-ad4465c1fe8c",
   "metadata": {},
   "outputs": [
    {
     "data": {
      "text/plain": [
       "id\n",
       "1035      394.0\n",
       "1036      311.0\n",
       "1037      343.0\n",
       "1038      318.0\n",
       "1039      243.0\n",
       "          ...  \n",
       "122960    305.0\n",
       "122961    305.0\n",
       "121181     45.0\n",
       "112306      NaN\n",
       "127035    508.0\n",
       "Name: width, Length: 69201, dtype: float64"
      ]
     },
     "execution_count": 154,
     "metadata": {},
     "output_type": "execute_result"
    }
   ],
   "source": [
    "pd.to_numeric(df['width'], errors=\"coerce\")"
   ]
  },
  {
   "cell_type": "code",
   "execution_count": 156,
   "id": "f7532fae-ec13-4702-8b85-abefa0247bb6",
   "metadata": {},
   "outputs": [],
   "source": [
    "df.loc[:, 'width'] = pd.to_numeric(df['width'], errors=\"coerce\")"
   ]
  },
  {
   "cell_type": "code",
   "execution_count": 165,
   "id": "260dc9db-e31c-4ab9-9c17-d11192e5d0e8",
   "metadata": {},
   "outputs": [
    {
     "data": {
      "text/plain": [
       "id\n",
       "1035       419.0\n",
       "1036       213.0\n",
       "1037       467.0\n",
       "1038       394.0\n",
       "1039       335.0\n",
       "           ...  \n",
       "122960     305.0\n",
       "122961     305.0\n",
       "121181    2410.0\n",
       "112306       NaN\n",
       "127035     660.0\n",
       "Name: height, Length: 69201, dtype: float64"
      ]
     },
     "execution_count": 165,
     "metadata": {},
     "output_type": "execute_result"
    }
   ],
   "source": [
    "pd.to_numeric(df['height'], errors=\"coerce\")"
   ]
  },
  {
   "cell_type": "code",
   "execution_count": 167,
   "id": "0063d9db-0c64-495d-ad09-bfa38b8f50a5",
   "metadata": {},
   "outputs": [],
   "source": [
    "df.loc[:, 'height'] = pd.to_numeric(df['height'], errors=\"coerce\")"
   ]
  },
  {
   "cell_type": "code",
   "execution_count": 180,
   "id": "90aa326f-9182-48cb-90d7-7eaa0268a00b",
   "metadata": {},
   "outputs": [
    {
     "data": {
      "text/plain": [
       "units\n",
       "mm    65860\n",
       "Name: count, dtype: int64"
      ]
     },
     "execution_count": 180,
     "metadata": {},
     "output_type": "execute_result"
    }
   ],
   "source": [
    "df['units'].value_counts()\n",
    "# here you can see the difference, length and the result. So 69201 - 95860 = nnn so this many values were not numeric\n",
    "# and we converted them to NaN, the rest was numeric"
   ]
  },
  {
   "cell_type": "code",
   "execution_count": 186,
   "id": "c625b30c-b8f2-4206-8612-c9ca2a761df3",
   "metadata": {},
   "outputs": [],
   "source": [
    "area = df['height'] * df['width']\n",
    "# assign() is used to add a new column to our data frame\n",
    "df = df.assign(area=area)"
   ]
  },
  {
   "cell_type": "code",
   "execution_count": 188,
   "id": "0fb7a3d4-22de-405f-a498-d70eb898f834",
   "metadata": {},
   "outputs": [
    {
     "data": {
      "text/plain": [
       "id\n",
       "1035      165086.0\n",
       "1036       66243.0\n",
       "1037      160181.0\n",
       "1038      125292.0\n",
       "1039       81405.0\n",
       "            ...   \n",
       "122960     93025.0\n",
       "122961     93025.0\n",
       "121181    108450.0\n",
       "112306         NaN\n",
       "127035    335280.0\n",
       "Name: area, Length: 69201, dtype: object"
      ]
     },
     "execution_count": 188,
     "metadata": {},
     "output_type": "execute_result"
    }
   ],
   "source": [
    "df['area']"
   ]
  },
  {
   "cell_type": "code",
   "execution_count": 190,
   "id": "283f3c75-4c06-4e2e-aca1-347a8c4bef40",
   "metadata": {},
   "outputs": [
    {
     "data": {
      "text/plain": [
       "132462000.0"
      ]
     },
     "execution_count": 190,
     "metadata": {},
     "output_type": "execute_result"
    }
   ],
   "source": [
    "df['area'].max()"
   ]
  },
  {
   "cell_type": "code",
   "execution_count": 196,
   "id": "32bdc906-b89d-4265-bd77-99f316efabc8",
   "metadata": {},
   "outputs": [
    {
     "data": {
      "text/plain": [
       "98367"
      ]
     },
     "execution_count": 196,
     "metadata": {},
     "output_type": "execute_result"
    }
   ],
   "source": [
    "df['area'].idxmax()   # returns the index of max value in this column"
   ]
  },
  {
   "cell_type": "code",
   "execution_count": 206,
   "id": "219e21ef-c15c-4061-8234-49e7cf123e16",
   "metadata": {},
   "outputs": [
    {
     "data": {
      "text/plain": [
       "artist                               Therrien, Robert\n",
       "title                No Title (Table and Four Chairs)\n",
       "medium             Aluminium, steel, wood and plastic\n",
       "year                                           2003.0\n",
       "acquisitionYear                                2008.0\n",
       "width                                          8920.0\n",
       "height                                        14850.0\n",
       "units                                              mm\n",
       "area                                      132462000.0\n",
       "Name: 98367, dtype: object"
      ]
     },
     "execution_count": 206,
     "metadata": {},
     "output_type": "execute_result"
    }
   ],
   "source": [
    "df.loc[df['area'].idxmax(), :]\n",
    "# it will take idxmax() position number as row index, and all others for column, then output the result\n",
    "# basically we will get all the column details for specific row number"
   ]
  },
  {
   "cell_type": "code",
   "execution_count": null,
   "id": "1c86bba4-12f2-45fd-8498-51ce913d25fa",
   "metadata": {},
   "outputs": [],
   "source": []
  }
 ],
 "metadata": {
  "kernelspec": {
   "display_name": "Python 3 (ipykernel)",
   "language": "python",
   "name": "python3"
  },
  "language_info": {
   "codemirror_mode": {
    "name": "ipython",
    "version": 3
   },
   "file_extension": ".py",
   "mimetype": "text/x-python",
   "name": "python",
   "nbconvert_exporter": "python",
   "pygments_lexer": "ipython3",
   "version": "3.12.4"
  }
 },
 "nbformat": 4,
 "nbformat_minor": 5
}
