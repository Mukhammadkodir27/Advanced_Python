{
 "cells": [
  {
   "cell_type": "markdown",
   "id": "6e53e0c4-5ecc-44c7-ad4a-b4c977b360e2",
   "metadata": {},
   "source": [
    "## NumPy Arrays"
   ]
  },
  {
   "cell_type": "code",
   "execution_count": 3,
   "id": "cb569d3b-e887-42b7-a294-b144ffb623a1",
   "metadata": {},
   "outputs": [],
   "source": [
    "import numpy as np"
   ]
  },
  {
   "cell_type": "markdown",
   "id": "bdd5ba6b-f137-480a-88ce-29ca1546059f",
   "metadata": {},
   "source": [
    "Creating a simple array"
   ]
  },
  {
   "cell_type": "code",
   "execution_count": 18,
   "id": "13064041-1494-4b52-948b-ed1d661646e9",
   "metadata": {},
   "outputs": [
    {
     "name": "stdout",
     "output_type": "stream",
     "text": [
      "[1 2 3 4 5 6]\n",
      "<class 'numpy.ndarray'>\n",
      "(6,)\n"
     ]
    }
   ],
   "source": [
    "array = np.array([1, 2, 3, 4, 5, 6])\n",
    "print(array)\n",
    "print(type(array))\n",
    "print(array.shape)"
   ]
  },
  {
   "cell_type": "markdown",
   "id": "28974d25-dcbf-46f6-8077-e0a46d2ac216",
   "metadata": {},
   "source": [
    "Creating a multi-dimensional array"
   ]
  },
  {
   "cell_type": "code",
   "execution_count": 20,
   "id": "58492292-f412-45a0-847e-6590656c86a2",
   "metadata": {},
   "outputs": [
    {
     "name": "stdout",
     "output_type": "stream",
     "text": [
      "[[1 2 3 4]\n",
      " [5 6 7 8]]\n",
      "(2, 4)\n"
     ]
    }
   ],
   "source": [
    "array = np.array([[1, 2, 3, 4], [5, 6, 7, 8]])\n",
    "print(array)\n",
    "print(array.shape)"
   ]
  },
  {
   "cell_type": "code",
   "execution_count": 28,
   "id": "a5729c89-fe7d-4131-bf7c-372fc702e433",
   "metadata": {},
   "outputs": [
    {
     "name": "stdout",
     "output_type": "stream",
     "text": [
      "[[1 2 3 0]\n",
      " [4 5 6 0]\n",
      " [7 8 9 0]]\n",
      "(3, 4)\n"
     ]
    }
   ],
   "source": [
    "array = np.array([[1, 2, 3, 0], [4, 5, 6, 0], [7, 8, 9, 0]])\n",
    "print(array)\n",
    "print(array.shape)"
   ]
  },
  {
   "cell_type": "markdown",
   "id": "c7d17d32-8229-4f2a-b21a-d0996829bf5b",
   "metadata": {},
   "source": [
    "NumPy Helper Methods"
   ]
  },
  {
   "cell_type": "code",
   "execution_count": 40,
   "id": "69f11d25-4134-4dae-b3be-289bce8ef434",
   "metadata": {},
   "outputs": [
    {
     "name": "stdout",
     "output_type": "stream",
     "text": [
      "[[0 0 0]\n",
      " [0 0 0]\n",
      " [0 0 0]]\n"
     ]
    }
   ],
   "source": [
    "# zeros()\n",
    "array = np.zeros((3, 3), dtype=int)\n",
    "print(array)"
   ]
  },
  {
   "cell_type": "code",
   "execution_count": 42,
   "id": "156ba6c7-6ebf-47f6-b885-502df7217653",
   "metadata": {},
   "outputs": [
    {
     "name": "stdout",
     "output_type": "stream",
     "text": [
      "[[1 1 1]\n",
      " [1 1 1]\n",
      " [1 1 1]]\n"
     ]
    }
   ],
   "source": [
    "# ones()\n",
    "array = np.ones((3, 3), dtype=int)\n",
    "print(array)"
   ]
  },
  {
   "cell_type": "code",
   "execution_count": 46,
   "id": "e8a6a846-e104-4e4a-afda-f7dc26526825",
   "metadata": {},
   "outputs": [
    {
     "name": "stdout",
     "output_type": "stream",
     "text": [
      "[[7 7 7]\n",
      " [7 7 7]\n",
      " [7 7 7]]\n"
     ]
    }
   ],
   "source": [
    "# full()\n",
    "array = np.full((3, 3), 7, dtype=int)\n",
    "print(array)"
   ]
  },
  {
   "cell_type": "code",
   "execution_count": 60,
   "id": "e645ae19-a96c-463d-8504-339cb802f12e",
   "metadata": {},
   "outputs": [
    {
     "name": "stdout",
     "output_type": "stream",
     "text": [
      "[[0.17694038 0.65055185 0.49860915]\n",
      " [0.62047358 0.98290533 0.69616294]\n",
      " [0.59897636 0.8676172  0.01610793]]\n"
     ]
    }
   ],
   "source": [
    "# random.random()\n",
    "array = np.random.random((3, 3))\n",
    "print(array)"
   ]
  },
  {
   "cell_type": "code",
   "execution_count": 74,
   "id": "38c5c2eb-ae3d-4135-b2c2-54dfa9ec39d5",
   "metadata": {},
   "outputs": [
    {
     "name": "stdout",
     "output_type": "stream",
     "text": [
      "[[6 7 5]\n",
      " [3 5 8]\n",
      " [6 3 4]]\n"
     ]
    }
   ],
   "source": [
    "# random.randint(range, )\n",
    "array = np.random.randint(1, 9, (3, 3))   # in range 1 and 9\n",
    "print(array)"
   ]
  },
  {
   "cell_type": "code",
   "execution_count": 82,
   "id": "8c6f402c-dc39-4dfd-a2db-08dbb2333219",
   "metadata": {},
   "outputs": [
    {
     "name": "stdout",
     "output_type": "stream",
     "text": [
      "6\n",
      "8\n",
      "6\n"
     ]
    }
   ],
   "source": [
    "# accessing the number at the [row_index, col_index] position\n",
    "print(array[0, 0])\n",
    "print(array[1, 2])\n",
    "print(array[2, 0])\n",
    "# in lists: listl[i][i]  and  arrays: array[i, i]"
   ]
  },
  {
   "cell_type": "code",
   "execution_count": 90,
   "id": "dbade2bb-39ab-4b40-bcf2-fbe7e45fe2e8",
   "metadata": {
    "scrolled": true
   },
   "outputs": [
    {
     "name": "stdout",
     "output_type": "stream",
     "text": [
      "[[ True  True  True]\n",
      " [ True  True  True]\n",
      " [ True  True  True]]\n",
      "-----------\n",
      "[[ True False False]\n",
      " [False False  True]\n",
      " [ True False  True]]\n"
     ]
    }
   ],
   "source": [
    "# using a comparison operator\n",
    "print(array > 2)\n",
    "print(\"-----------\")\n",
    "print(array % 2 == 0)"
   ]
  },
  {
   "cell_type": "code",
   "execution_count": 98,
   "id": "01c3a21f-ac17-4633-ade0-7adefe1cfe1b",
   "metadata": {},
   "outputs": [],
   "source": [
    "# as you can see, istead of accessing each element and using the operator, \n",
    "# you can just use the array name and define the operator, it will compute itself within the array elements"
   ]
  },
  {
   "cell_type": "code",
   "execution_count": 110,
   "id": "c2336626-0108-4f6e-9c0c-15f0def060bd",
   "metadata": {},
   "outputs": [
    {
     "name": "stdout",
     "output_type": "stream",
     "text": [
      "[6 7 8 6]\n"
     ]
    }
   ],
   "source": [
    "# boolean indexing\n",
    "print(array[array > 5])\n",
    "# this will show only the array elements which are higher than 5"
   ]
  },
  {
   "cell_type": "markdown",
   "id": "d955aed4-fd06-4640-8ea0-ed2f10ccbefc",
   "metadata": {},
   "source": [
    "### Array Computational Functions"
   ]
  },
  {
   "cell_type": "code",
   "execution_count": 113,
   "id": "0f22f81b-cef1-4a9e-8c78-64c41786cd31",
   "metadata": {},
   "outputs": [
    {
     "name": "stdout",
     "output_type": "stream",
     "text": [
      "[ 2.1  3.9  5.5 11.8 15.7 13.3]\n"
     ]
    }
   ],
   "source": [
    "array = np.array([2.1, 3.9, 5.5, 11.8, 15.7, 13.3])\n",
    "print(array)"
   ]
  },
  {
   "cell_type": "code",
   "execution_count": 121,
   "id": "737038aa-bbdb-4cb7-8d6a-8981f7079522",
   "metadata": {},
   "outputs": [
    {
     "name": "stdout",
     "output_type": "stream",
     "text": [
      "52.3\n"
     ]
    }
   ],
   "source": [
    "# sum()\n",
    "print(np.sum(array))"
   ]
  },
  {
   "cell_type": "code",
   "execution_count": 129,
   "id": "f0baa51d-462c-4be2-961d-ee6e04833bf3",
   "metadata": {},
   "outputs": [
    {
     "name": "stdout",
     "output_type": "stream",
     "text": [
      "[ 2.  3.  5. 11. 15. 13.]\n"
     ]
    }
   ],
   "source": [
    "# floor() \n",
    "print(np.floor(array))"
   ]
  },
  {
   "cell_type": "code",
   "execution_count": 131,
   "id": "7c3af374-6b96-4243-86c4-fac20f632195",
   "metadata": {},
   "outputs": [
    {
     "name": "stdout",
     "output_type": "stream",
     "text": [
      "[ 3.  4.  6. 12. 16. 14.]\n"
     ]
    }
   ],
   "source": [
    "# ceil()\n",
    "print(np.ceil(array))"
   ]
  },
  {
   "cell_type": "code",
   "execution_count": 133,
   "id": "96111298-d83d-48bb-a0b7-715c988a8d9b",
   "metadata": {},
   "outputs": [
    {
     "name": "stdout",
     "output_type": "stream",
     "text": [
      "[ 2.  4.  6. 12. 16. 13.]\n"
     ]
    }
   ],
   "source": [
    "# round()\n",
    "print(np.round(array))"
   ]
  },
  {
   "cell_type": "markdown",
   "id": "b2b3b9b2-07ef-4538-819e-2eaefa8ab1cc",
   "metadata": {},
   "source": [
    "### Performing Arithmetic Operations Between Numbers and Arrays"
   ]
  },
  {
   "cell_type": "code",
   "execution_count": 137,
   "id": "8743ea11-b028-4f29-b1e2-e9504845451d",
   "metadata": {},
   "outputs": [],
   "source": [
    "first_array = np.array([111, 333, 555])\n",
    "second_array = np.array([222, 444, 666])"
   ]
  },
  {
   "cell_type": "code",
   "execution_count": 139,
   "id": "6d1d0caa-7c35-44e6-b095-40c61c17b2d2",
   "metadata": {},
   "outputs": [
    {
     "name": "stdout",
     "output_type": "stream",
     "text": [
      "[ 333  777 1221]\n"
     ]
    }
   ],
   "source": [
    "print(first_array + second_array)"
   ]
  },
  {
   "cell_type": "code",
   "execution_count": 141,
   "id": "25574d5b-f994-4d59-b32a-b689feac8888",
   "metadata": {},
   "outputs": [
    {
     "name": "stdout",
     "output_type": "stream",
     "text": [
      "[112 334 556]\n",
      "[ 444  888 1332]\n"
     ]
    }
   ],
   "source": [
    "print(first_array + 1)\n",
    "print(second_array * 2)"
   ]
  },
  {
   "cell_type": "markdown",
   "id": "4a17c208-294e-458d-b180-8566f9b3e8a0",
   "metadata": {},
   "source": [
    "### Unit conversion (length)"
   ]
  },
  {
   "cell_type": "code",
   "execution_count": 145,
   "id": "c972bd7e-cab3-4f10-b603-25e20cf52e91",
   "metadata": {},
   "outputs": [],
   "source": [
    "feet = np.array([1, 2, 3, 4, 5])"
   ]
  },
  {
   "cell_type": "code",
   "execution_count": 151,
   "id": "f054e8f2-761f-4586-a8a3-497b8decd3b0",
   "metadata": {},
   "outputs": [
    {
     "name": "stdout",
     "output_type": "stream",
     "text": [
      "[ 30.48  60.96  91.44 121.92 152.4 ]\n",
      "[12 24 36 48 60]\n",
      "[0.3048 0.6096 0.9144 1.2192 1.524 ]\n",
      "[0.3333 0.6666 0.9999 1.3332 1.6665]\n"
     ]
    }
   ],
   "source": [
    "cm = feet * 30.48\n",
    "inch = feet * 12\n",
    "meter = feet * 0.3048\n",
    "yard = feet * 0.3333\n",
    "print(cm)\n",
    "print(inch)\n",
    "print(meter)\n",
    "print(yard)"
   ]
  },
  {
   "cell_type": "code",
   "execution_count": 155,
   "id": "92d66fc9-cb90-4f41-9ad3-ec8ec3e8700f",
   "metadata": {},
   "outputs": [],
   "source": [
    "random_3d_array = np.random.randint(1, 9, (3, 3))"
   ]
  },
  {
   "cell_type": "code",
   "execution_count": 157,
   "id": "165695b1-f85c-4439-9f80-829c95f4ee20",
   "metadata": {},
   "outputs": [
    {
     "name": "stdout",
     "output_type": "stream",
     "text": [
      "[[7 5 7]\n",
      " [1 3 5]\n",
      " [5 6 1]]\n"
     ]
    }
   ],
   "source": [
    "print(random_3d_array)"
   ]
  },
  {
   "cell_type": "code",
   "execution_count": 159,
   "id": "2a121588-e459-4ef7-a6e9-989f5181ddcb",
   "metadata": {},
   "outputs": [
    {
     "name": "stdout",
     "output_type": "stream",
     "text": [
      "[[21 15 21]\n",
      " [ 3  9 15]\n",
      " [15 18  3]]\n"
     ]
    }
   ],
   "source": [
    "# now lets perform some operations on this: by *3\n",
    "multpl_by_3 = random_3d_array * 3\n",
    "print(multpl_by_3)"
   ]
  },
  {
   "cell_type": "code",
   "execution_count": 163,
   "id": "2aab2642-6af7-411e-baa1-41c88d744f88",
   "metadata": {},
   "outputs": [],
   "source": [
    "# as you can see from here, np.array itself accessed to each array element and performed computation.\n",
    "# no need to write extra code to specify indexes and perform operations"
   ]
  }
 ],
 "metadata": {
  "kernelspec": {
   "display_name": "Python 3 (ipykernel)",
   "language": "python",
   "name": "python3"
  },
  "language_info": {
   "codemirror_mode": {
    "name": "ipython",
    "version": 3
   },
   "file_extension": ".py",
   "mimetype": "text/x-python",
   "name": "python",
   "nbconvert_exporter": "python",
   "pygments_lexer": "ipython3",
   "version": "3.12.4"
  }
 },
 "nbformat": 4,
 "nbformat_minor": 5
}
