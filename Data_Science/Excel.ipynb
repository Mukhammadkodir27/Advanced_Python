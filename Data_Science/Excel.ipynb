{
 "cells": [
  {
   "cell_type": "markdown",
   "id": "4e76634a-b90d-4719-893a-14fbdb3dc74e",
   "metadata": {},
   "source": [
    "Working with Excel Speadsheets"
   ]
  },
  {
   "cell_type": "code",
   "execution_count": 7,
   "id": "e657a2ca-bab2-4598-8e29-f5c5eef626bf",
   "metadata": {},
   "outputs": [],
   "source": [
    "import openpyxl"
   ]
  },
  {
   "cell_type": "code",
   "execution_count": 33,
   "id": "b156b4df-d007-458f-826a-1f8ce0d058bf",
   "metadata": {},
   "outputs": [],
   "source": [
    "# Loading an excel work book\n",
    "work_book = openpyxl.load_workbook(\"user_info/users.xlsx\")"
   ]
  },
  {
   "cell_type": "code",
   "execution_count": 35,
   "id": "7a281b1d-6abe-4d93-b9f8-faff29f31610",
   "metadata": {},
   "outputs": [
    {
     "name": "stdout",
     "output_type": "stream",
     "text": [
      "[]\n"
     ]
    }
   ],
   "source": [
    "# print all available sheet names\n",
    "print(work_book.sheetnames)"
   ]
  },
  {
   "cell_type": "code",
   "execution_count": 41,
   "id": "9572c490-cd88-454f-bec0-75ab88694917",
   "metadata": {},
   "outputs": [],
   "source": [
    "# assign a sheet to a variable\n",
    "sheet = work_book[\"Sheet1\"]     "
   ]
  },
  {
   "cell_type": "code",
   "execution_count": null,
   "id": "26d9908b-4f00-4bbc-a5b6-6bfff19e5895",
   "metadata": {},
   "outputs": [],
   "source": [
    "# *****************---------------- Working with Excel Spreadsheets\n",
    "\n",
    "import openpyxl\n",
    "\n",
    "work_book = openpyxl.Workbook()\n",
    "\n",
    "work_book = openpyxl.load_workbook(\"users.xlsx\")\n",
    "print(work_book.sheetnames)\n",
    "\n",
    "sheet = work_book[\"Sheet_1\"]\n",
    "print(sheet)\n",
    "\n",
    "# --------------------------------------------------------------\n",
    "# *-*-*-*-*-* Accessing individual cells -----------------------\n",
    "\n",
    "# Approach one ->>>> *-*- cell coordiantes --------\n",
    "cell = sheet[\"A1\"]\n",
    "print(cell.value)\n",
    "print(cell.row)\n",
    "print(cell.column)\n",
    "print(cell.coordinate)\n",
    "\n",
    "# Approach two ->>>> *-*- cell() method --------\n",
    "cell = sheet.cell(row=1, column=1)\n",
    "print(cell)\n",
    "\n",
    "# ----------------------------------------------------------------\n",
    "# *-*-*-*-*-* Accessing rows/columns cells -----------------------\n",
    "\n",
    "print(\"Number of Rows:\", sheet.max_row)\n",
    "print(\"Number of Columns:\", sheet.max_column)\n",
    "\n",
    "# ---------------------------------------------------------------------\n",
    "# *-*-*-*-*-* Iterating over rows/columns cells -----------------------\n",
    "\n",
    "for row in range(1, sheet.max_row + 1):\n",
    "    for col in range(1, sheet.max_column + 1):\n",
    "        cell = sheet.cell(row, col)\n",
    "        print(cell.value)\n",
    "\n",
    "for col in range(1, sheet.max_column + 1):\n",
    "    for row in range(1, sheet.max_row + 1):\n",
    "        cell = sheet.cell(row, col)\n",
    "        print(cell.value)\n",
    "\n",
    "# --------------------------------------------------------------\n",
    "# *-*-*-*-*-* Accessing a range of cells -----------------------\n",
    "\n",
    "\n",
    "# *-*- getting all the cells in a col --------\n",
    "column = sheet[\"A\"]\n",
    "print(column)\n",
    "\n",
    "# *-*- getting a range of cells --------\n",
    "print(sheet[\"A1:B5\"])\n",
    "\n",
    "# *-*- getting a range of cells using coodinates --------\n",
    "print(sheet[\"A:C\"])\n",
    "\n",
    "# *-*- getting all the cells in the first row --------\n",
    "print(sheet[1])\n",
    "\n",
    "# *-*- getting all the cells in a range of rows --------\n",
    "print(sheet[1:3])\n",
    "\n",
    "# --------------------------------------------------------------\n",
    "# *-*-*-*-*-* sheet object methods -----------------------------\n",
    "\n",
    "# *-*- append()\n",
    "sheet.append([\"wolf\", 555, \"online\"])\n",
    "\n",
    "# *-*- insert_rows(starting index, # of empty rows)\n",
    "sheet.insert_rows(3, 10)\n",
    "\n",
    "# *-*- insert_cols(starting index, # of empty cols)\n",
    "sheet.insert_cols(2, 5)\n",
    "\n",
    "# *-*- delete_rows(starting index, # of rows)\n",
    "sheet.delete_rows(3, 10)\n",
    "\n",
    "# *-*- delete_cols(starting index, # of cols)\n",
    "sheet.delete_cols(2, 5)\n",
    "\n",
    "\n",
    "work_book.save(\"users.xlsx\")\n",
    "\n",
    "\n",
    "# --------------------------------------------------------------\n",
    "# *-*-*-*-*-* adding sheets to the workbook -----------------------------\n",
    "work_book.create_sheet(\"PY_Sheet_1\")\n",
    "work_book.save(\"new_users.xlsx\")\n"
   ]
  }
 ],
 "metadata": {
  "kernelspec": {
   "display_name": "Python 3 (ipykernel)",
   "language": "python",
   "name": "python3"
  },
  "language_info": {
   "codemirror_mode": {
    "name": "ipython",
    "version": 3
   },
   "file_extension": ".py",
   "mimetype": "text/x-python",
   "name": "python",
   "nbconvert_exporter": "python",
   "pygments_lexer": "ipython3",
   "version": "3.12.4"
  }
 },
 "nbformat": 4,
 "nbformat_minor": 5
}
