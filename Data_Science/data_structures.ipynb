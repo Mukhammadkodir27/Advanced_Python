{
 "cells": [
  {
   "cell_type": "code",
   "execution_count": 11,
   "id": "0831511f-6d89-4eb6-a64e-9fab90e69b88",
   "metadata": {},
   "outputs": [],
   "source": [
    "# List Comprehension"
   ]
  },
  {
   "cell_type": "code",
   "execution_count": 1,
   "id": "caeb65cf-20ef-4008-a327-9219b8101314",
   "metadata": {},
   "outputs": [
    {
     "name": "stdout",
     "output_type": "stream",
     "text": [
      "['Cup', 'T-Shirt', 'Hat', 'Watch', 'UV Lamp', 'Mug']\n"
     ]
    }
   ],
   "source": [
    "# Example\n",
    "products = [(\"Cup\", 5),\n",
    "            (\"T-Shirt\", 19),\n",
    "            (\"Hat\", 29),\n",
    "            (\"Watch\", 49),\n",
    "            (\"UV Lamp\", 27),\n",
    "            (\"Mug\", 7),\n",
    "            ]\n",
    "\n",
    "items = [item for item in products]\n",
    "# items = [item[1] for item in products]\n",
    "items = [item[0] for item in products]\n",
    "print(items)  # [Cup, T-Shirt, Hat, Watch, UV Lamp, Mug]\n",
    "# as you can see it grabbed 0 index items from list of tuples"
   ]
  },
  {
   "cell_type": "code",
   "execution_count": 3,
   "id": "c14049a5-41f4-47fc-8673-c571dc579470",
   "metadata": {},
   "outputs": [
    {
     "name": "stdout",
     "output_type": "stream",
     "text": [
      "['Cup', 'T-Shirt', 'Hat', 'Watch', 'UV Lamp', 'Mug']\n",
      "[5, 19, 29, 49, 27, 7]\n"
     ]
    }
   ],
   "source": [
    "new_item_list = []\n",
    "another_new_items = []\n",
    "for item in products:\n",
    "    new_item_list.append(item[0])\n",
    "\n",
    "print(new_item_list)\n",
    "\n",
    "another_new_items = [item[1] for item in products]\n",
    "print(another_new_items)"
   ]
  },
  {
   "cell_type": "code",
   "execution_count": 5,
   "id": "fb47f60a-eadc-4dd4-826e-d72b34e4f00c",
   "metadata": {},
   "outputs": [
    {
     "name": "stdout",
     "output_type": "stream",
     "text": [
      "['T-Shirt', 'Hat', 'Watch', 'UV Lamp']\n",
      "['T-Shirt', 'Hat', 'Watch', 'UV Lamp']\n"
     ]
    }
   ],
   "source": [
    "# single condition in list comprehension\n",
    "new_items = []\n",
    "new_items_new = []\n",
    "for item in products:\n",
    "    if item[1] > 10:\n",
    "        new_items.append(item[0])\n",
    "print(new_items)\n",
    "\n",
    "new_items_new = [item[0] for item in products if item[1] > 10]\n",
    "print(new_items_new)\n"
   ]
  },
  {
   "cell_type": "code",
   "execution_count": 17,
   "id": "0417db76-b8b6-41ec-a751-84f152590e04",
   "metadata": {},
   "outputs": [
    {
     "name": "stdout",
     "output_type": "stream",
     "text": [
      "[21, 24, 56, 1128, 204, 1008, 79, 84]\n",
      "[21, 24, 56, 1128, 204, 1008, 79, 84]\n"
     ]
    }
   ],
   "source": [
    "# two conditions with LC\n",
    "numbers = [21, 24, 56, 564, 102, 504, 79, 84]\n",
    "new_nums, new_numbers = [], []\n",
    "\n",
    "# without LC\n",
    "for num in numbers:\n",
    "    if num < 100:\n",
    "        new_nums.append(num)\n",
    "    else:\n",
    "        new_nums.append(num*2)\n",
    "print(new_nums)\n",
    "# now with LC\n",
    "new_numbers = [num if num < 100 else num * 2 for num in numbers]\n",
    "print(new_numbers)"
   ]
  },
  {
   "cell_type": "code",
   "execution_count": 84,
   "id": "30653671-52d2-41bb-a7e9-b41392006ae5",
   "metadata": {},
   "outputs": [
    {
     "name": "stdout",
     "output_type": "stream",
     "text": [
      "['Sea Biscuit', 'Parrot', 'H', 32, 'M', 28]\n",
      "None\n"
     ]
    }
   ],
   "source": [
    "collection = [28, \"M\", 32, \"H\", \"Parrot\", \"Sea Biscuit\"]\n",
    "print(collection[::-1])\n",
    "print(collection.reverse()) # returns NONE but it worked"
   ]
  },
  {
   "cell_type": "code",
   "execution_count": 80,
   "id": "8b1c4994-7126-417f-a122-61ddb5757f01",
   "metadata": {},
   "outputs": [
    {
     "name": "stdout",
     "output_type": "stream",
     "text": [
      "0 A\n",
      "1 B\n",
      "2 C\n",
      "3 D\n",
      "4 E\n"
     ]
    }
   ],
   "source": [
    "# enumerate \n",
    "letters = list(\"ABCDE\")\n",
    "for index, item in enumerate(letters):\n",
    "    print(index, item)"
   ]
  },
  {
   "cell_type": "code",
   "execution_count": 102,
   "id": "db181b90-a43e-47cc-9f5b-6620eef4e36f",
   "metadata": {},
   "outputs": [
    {
     "name": "stdout",
     "output_type": "stream",
     "text": [
      "ABCDE\n",
      "A B C D E\n",
      "A-B-C-D-E\n",
      "A, B, C, D, E\n",
      "['Alexander', 'Heroku', 'Druseldor']\n",
      "Alexander, Heroku, Druseldor\n"
     ]
    }
   ],
   "source": [
    "# list methods to keep in mind\n",
    "# .append() .insert(index, value) .pop() .pop(index) .remove(item_name)  del numbers[0:5]  .reverse() .clear() .join()\n",
    "print(\"\".join(letters))\n",
    "print(\" \".join(letters))\n",
    "print(\"-\".join(letters))\n",
    "print(\", \".join(letters))\n",
    "random_values = [\"Alexander\", \"Heroku\", \"Druseldor\"]\n",
    "print(random_values)\n",
    "print(\", \".join(random_values))"
   ]
  },
  {
   "cell_type": "code",
   "execution_count": 108,
   "id": "3f5741c5-df7a-4e5c-aef3-b60d465da1e4",
   "metadata": {},
   "outputs": [
    {
     "name": "stdout",
     "output_type": "stream",
     "text": [
      "[('Cup', 5), ('Mug', 7), ('T-Shirt', 19), ('UV Lamp', 27), ('Hat', 29), ('Watch', 49)]\n"
     ]
    }
   ],
   "source": [
    "def sort_products(product):\n",
    "    return product[1]\n",
    "products.sort(key=sort_products)\n",
    "print(products)"
   ]
  },
  {
   "cell_type": "code",
   "execution_count": null,
   "id": "97f70feb-48a0-4517-825d-e26cda748857",
   "metadata": {},
   "outputs": [],
   "source": []
  },
  {
   "cell_type": "code",
   "execution_count": null,
   "id": "61032766-6b74-4c24-b3de-e0e743054e5b",
   "metadata": {},
   "outputs": [],
   "source": []
  },
  {
   "cell_type": "code",
   "execution_count": 210,
   "id": "22acf112-03fa-43fb-8f7d-3feea6b81cbc",
   "metadata": {},
   "outputs": [
    {
     "name": "stdout",
     "output_type": "stream",
     "text": [
      "2339080440288\n",
      "2339080440288\n",
      "2339080442976\n"
     ]
    }
   ],
   "source": [
    "# Sets are mutable - values can be changed, unordered, duplicates are removed - only unique values\n",
    "example_set = {1, 2, 3, 4, 5, 6, 7, 8, 9, 0}\n",
    "example_set = {1, 2, \"This_Set\", (\"London\",)}\n",
    "# we cannot have mutable objects in our set, here we have tuple as it is unmutable\n",
    "empty_set = set()\n",
    "# set from a tuple\n",
    "colors = set((\"red\", \"blue\", \"red\", \"green\"))\n",
    "# set from a list\n",
    "colors = set([\"red\", \"blue\", \"red\", \"green\"])\n",
    "# set from a dictionary\n",
    "colors = set({\"main_color\":\"red\", \"ad_color\":\"blue\", \"bottom_color\":\"red\", \"div_color\":\"green\"})\n",
    "colors_ndict = set(dict(main_color=\"red\", ad_color = \"blue\"))\n",
    "\n",
    "#sets are unordered that's why indexing is not allowed\n",
    "colors.add(\"white\")\n",
    "colors.update(\"white\", \"silver\", (\"gold\",))\n",
    "colors.discard(\"silverr\")\n",
    "colors.remove(\"gold\")\n",
    "colors.pop()\n",
    "# colors.clear()\n",
    "same_color = colors # both have same reference id (storage id), one change affects both\n",
    "copied_color = colors.copy()\n",
    "print(id(colors)) #2339080440288\n",
    "print(id(same_color)) #2339080440288\n",
    "print(id(copied_color)) #2339080442976"
   ]
  },
  {
   "cell_type": "code",
   "execution_count": 218,
   "id": "672fded6-45f5-4c99-a65e-2b9dbdb16c29",
   "metadata": {},
   "outputs": [
    {
     "name": "stdout",
     "output_type": "stream",
     "text": [
      "{1, 2, 3, 4, 5, 6, 7, 8}\n",
      "{4, 5}\n",
      "{1, 2, 3}\n",
      "{1, 2, 3, 6, 7, 8}\n"
     ]
    }
   ],
   "source": [
    "# Set Operations\n",
    "A = {1, 2, 3, 4, 5}\n",
    "B = {4, 5, 6, 7, 8}\n",
    "print(A.union(B))\n",
    "print(A.intersection(B))\n",
    "print(A.difference(B))\n",
    "print(A.symmetric_difference(B))"
   ]
  },
  {
   "cell_type": "code",
   "execution_count": 234,
   "id": "aebd2906-f2e8-4217-ae1f-272d6af0d1aa",
   "metadata": {},
   "outputs": [
    {
     "name": "stdout",
     "output_type": "stream",
     "text": [
      "{64, 1, 4, 36, 9, 16, 49, 81, 25}\n",
      "{64, 1, 4, 36, 9, 16, 49, 81, 25}\n",
      "{0, 1, 64, 4, 36, 9, 16, 49, 25}\n",
      "{0, 1, 64, 4, 36, 9, 16, 49, 25}\n"
     ]
    }
   ],
   "source": [
    "# Set Comprehensions SC\n",
    "numbers = {1, 2, 3, 4, 5, 6, 7, 8, 9}\n",
    "modified = set()\n",
    "modified2 = set()\n",
    "# SC\n",
    "modified_numbers = {num ** 2 for num in numbers}\n",
    "print(modified_numbers)\n",
    "# without SC\n",
    "for num in numbers:\n",
    "    modified.add(num**2)\n",
    "print(modified)\n",
    "# SC\n",
    "modified_numbers = {num ** 2 for num in range(9)}\n",
    "print(modified_numbers)\n",
    "# without SC\n",
    "for num in range(9):\n",
    "    modified2.add(num**2)\n",
    "print(modified2)"
   ]
  },
  {
   "cell_type": "code",
   "execution_count": null,
   "id": "ccc859fa-d739-460b-b4e3-a60c596416ab",
   "metadata": {},
   "outputs": [],
   "source": []
  },
  {
   "cell_type": "code",
   "execution_count": null,
   "id": "634e090f-b3d0-4a21-9d43-2c068638694a",
   "metadata": {},
   "outputs": [],
   "source": []
  },
  {
   "cell_type": "code",
   "execution_count": 328,
   "id": "2fa8b545-68a1-4c60-b2a0-6b9240e7eaea",
   "metadata": {},
   "outputs": [
    {
     "name": "stdout",
     "output_type": "stream",
     "text": [
      "True\n"
     ]
    }
   ],
   "source": [
    "# Tuples, unchangeable elements\n",
    "names, numbers, ids = (), (), ()\n",
    "names = \"Kadir\", \n",
    "names = (\"Adil\",) * 2\n",
    "numbers = 1, 2, 3, 4, 5, 6\n",
    "numbers = (1, 2, 3, 4, 5, 6)\n",
    "\n",
    "# we cannot delete individual items but we can delete tuple entirely \n",
    "#del names, numbers\n",
    "#.count(), .index()\n",
    "print(\"Adil\" in names)"
   ]
  }
 ],
 "metadata": {
  "kernelspec": {
   "display_name": "Python 3 (ipykernel)",
   "language": "python",
   "name": "python3"
  },
  "language_info": {
   "codemirror_mode": {
    "name": "ipython",
    "version": 3
   },
   "file_extension": ".py",
   "mimetype": "text/x-python",
   "name": "python",
   "nbconvert_exporter": "python",
   "pygments_lexer": "ipython3",
   "version": "3.12.4"
  }
 },
 "nbformat": 4,
 "nbformat_minor": 5
}
