{
 "cells": [
  {
   "cell_type": "code",
   "execution_count": 11,
   "id": "0831511f-6d89-4eb6-a64e-9fab90e69b88",
   "metadata": {},
   "outputs": [],
   "source": [
    "# List Comprehension"
   ]
  },
  {
   "cell_type": "code",
   "execution_count": 1,
   "id": "caeb65cf-20ef-4008-a327-9219b8101314",
   "metadata": {},
   "outputs": [
    {
     "name": "stdout",
     "output_type": "stream",
     "text": [
      "['Cup', 'T-Shirt', 'Hat', 'Watch', 'UV Lamp', 'Mug']\n"
     ]
    }
   ],
   "source": [
    "# Example\n",
    "products = [(\"Cup\", 5),\n",
    "            (\"T-Shirt\", 19),\n",
    "            (\"Hat\", 29),\n",
    "            (\"Watch\", 49),\n",
    "            (\"UV Lamp\", 27),\n",
    "            (\"Mug\", 7),\n",
    "            ]\n",
    "\n",
    "items = [item for item in products]\n",
    "# items = [item[1] for item in products]\n",
    "items = [item[0] for item in products]\n",
    "print(items)  # [Cup, T-Shirt, Hat, Watch, UV Lamp, Mug]\n",
    "# as you can see it grabbed 0 index items from list of tuples"
   ]
  },
  {
   "cell_type": "code",
   "execution_count": 3,
   "id": "c14049a5-41f4-47fc-8673-c571dc579470",
   "metadata": {},
   "outputs": [
    {
     "name": "stdout",
     "output_type": "stream",
     "text": [
      "['Cup', 'T-Shirt', 'Hat', 'Watch', 'UV Lamp', 'Mug']\n",
      "[5, 19, 29, 49, 27, 7]\n"
     ]
    }
   ],
   "source": [
    "new_item_list = []\n",
    "another_new_items = []\n",
    "for item in products:\n",
    "    new_item_list.append(item[0])\n",
    "\n",
    "print(new_item_list)\n",
    "\n",
    "another_new_items = [item[1] for item in products]\n",
    "print(another_new_items)"
   ]
  },
  {
   "cell_type": "code",
   "execution_count": 5,
   "id": "fb47f60a-eadc-4dd4-826e-d72b34e4f00c",
   "metadata": {},
   "outputs": [
    {
     "name": "stdout",
     "output_type": "stream",
     "text": [
      "['T-Shirt', 'Hat', 'Watch', 'UV Lamp']\n",
      "['T-Shirt', 'Hat', 'Watch', 'UV Lamp']\n"
     ]
    }
   ],
   "source": [
    "# single condition in list comprehension\n",
    "new_items = []\n",
    "new_items_new = []\n",
    "for item in products:\n",
    "    if item[1] > 10:\n",
    "        new_items.append(item[0])\n",
    "print(new_items)\n",
    "\n",
    "new_items_new = [item[0] for item in products if item[1] > 10]\n",
    "print(new_items_new)\n"
   ]
  },
  {
   "cell_type": "code",
   "execution_count": 17,
   "id": "0417db76-b8b6-41ec-a751-84f152590e04",
   "metadata": {},
   "outputs": [
    {
     "name": "stdout",
     "output_type": "stream",
     "text": [
      "[21, 24, 56, 1128, 204, 1008, 79, 84]\n",
      "[21, 24, 56, 1128, 204, 1008, 79, 84]\n"
     ]
    }
   ],
   "source": [
    "# two conditions with LC\n",
    "numbers = [21, 24, 56, 564, 102, 504, 79, 84]\n",
    "new_nums, new_numbers = [], []\n",
    "\n",
    "# without LC\n",
    "for num in numbers:\n",
    "    if num < 100:\n",
    "        new_nums.append(num)\n",
    "    else:\n",
    "        new_nums.append(num*2)\n",
    "print(new_nums)\n",
    "# now with LC\n",
    "new_numbers = [num if num < 100 else num * 2 for num in numbers]\n",
    "print(new_numbers)"
   ]
  }
 ],
 "metadata": {
  "kernelspec": {
   "display_name": "Python 3 (ipykernel)",
   "language": "python",
   "name": "python3"
  },
  "language_info": {
   "codemirror_mode": {
    "name": "ipython",
    "version": 3
   },
   "file_extension": ".py",
   "mimetype": "text/x-python",
   "name": "python",
   "nbconvert_exporter": "python",
   "pygments_lexer": "ipython3",
   "version": "3.12.4"
  }
 },
 "nbformat": 4,
 "nbformat_minor": 5
}
