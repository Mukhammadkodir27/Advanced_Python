{
 "cells": [
  {
   "cell_type": "markdown",
   "metadata": {},
   "source": [
    "### Python and SQL: intro / SQL platforms - 2024 Z\n",
    "\n",
    "\n",
    "### This material may not be copied or published elsewhere (including Facebook and other social media) without the  permission of the author!\n",
    "\n",
    "# Introduction to SQL (part3)"
   ]
  },
  {
   "cell_type": "markdown",
   "metadata": {},
   "source": [
    "Based on information from previous classes, we will introduce more advanced sql topics. We will consider:\n",
    "   * join statments,\n",
    "   * working with sets,\n",
    "   * grouping and agregate functions,\n",
    "   * arithmetic operators + built-in math functions,\n",
    "   * subqueries,\n",
    "   * indexes,\n",
    "   * views,\n",
    "   * triggers.\n",
    "   \n",
    "During this class we will use data stored in testdb2.db database.We will connect to this database using sqlite3 package and the code given below:\n",
    "   "
   ]
  },
  {
   "cell_type": "code",
   "execution_count": 7,
   "metadata": {},
   "outputs": [],
   "source": [
    "import sqlite3\n",
    "\n",
    "#connect to testdb2.db database\n",
    "conn = sqlite3.connect('testdb2.db')\n",
    "\n",
    "#close the connection and free all resources\n",
    "conn.close()\n",
    "\n",
    "def printAll(listOfResultsA):\n",
    "    for item in listOfResultsA:\n",
    "        print(item)"
   ]
  },
  {
   "cell_type": "markdown",
   "metadata": {},
   "source": [
    "The testdb2.db contains the following tables:\n",
    " * student\n",
    " * staff\n",
    " * specialistation\n",
    " * subject\n",
    " * student_subject\n",
    " * log \n",
    " \n",
    "**The free graphical tool SQLStudio (https://sqlitestudio.pl) can be used  to verify changes in given database.\n"
   ]
  },
  {
   "cell_type": "markdown",
   "metadata": {},
   "source": [
    "## JOIN statments"
   ]
  },
  {
   "cell_type": "markdown",
   "metadata": {},
   "source": [
    "Queries against a single table are certainly not rare, but you will find that most of your queries will require two, three, or even more tables. In the code below we wil use one out of three joins types:\n",
    "* join\n",
    "* inner join\n",
    "* outer join"
   ]
  },
  {
   "cell_type": "markdown",
   "metadata": {},
   "source": [
    "The easiest way to start is to put the student and specialisation tables into the FROM clause of a query."
   ]
  },
  {
   "cell_type": "code",
   "execution_count": 15,
   "metadata": {},
   "outputs": [
    {
     "name": "stdout",
     "output_type": "stream",
     "text": [
      "\n",
      "Present all data in student table:\n",
      "[(1, 'Tom', 'Silver', 1996, 70, 176, 1), (2, 'Alex', 'Great', 1995, 60, 164, 2), (3, 'Michael', 'Jordan', 1975, 95, 201, 1), (4, 'Ann', 'Green', 1996, 50, 168, 1), (5, 'Jack', 'Gold', 1996, 80, 190, 1), (6, 'Jack', 'Smith', 1996, 75, 175, None)]\n",
      "\n",
      "Present all data in specialisation table:\n",
      "[(1, 'QF'), (2, 'Finance&Accounting')]\n",
      "\n",
      "Present student and chosen specialisation:\n",
      "('Tom', 'Silver', 'QF')\n",
      "('Tom', 'Silver', 'Finance&Accounting')\n",
      "('Alex', 'Great', 'QF')\n",
      "('Alex', 'Great', 'Finance&Accounting')\n",
      "('Michael', 'Jordan', 'QF')\n",
      "('Michael', 'Jordan', 'Finance&Accounting')\n",
      "('Ann', 'Green', 'QF')\n",
      "('Ann', 'Green', 'Finance&Accounting')\n",
      "('Jack', 'Gold', 'QF')\n",
      "('Jack', 'Gold', 'Finance&Accounting')\n",
      "('Jack', 'Smith', 'QF')\n",
      "('Jack', 'Smith', 'Finance&Accounting')\n"
     ]
    }
   ],
   "source": [
    "import sqlite3\n",
    "\n",
    "conn = sqlite3.connect('testdb2.db')\n",
    "\n",
    "c = conn.cursor()\n",
    "\n",
    "\n",
    "c.execute(\"Select * from student\")\n",
    "print(\"\\nPresent all data in student table:\")\n",
    "print(c.fetchall())\n",
    "\n",
    "c.execute(\"Select * from specialisation\")\n",
    "print(\"\\nPresent all data in specialisation table:\")\n",
    "print(c.fetchall())\n",
    "\n",
    "print(\"\\nPresent student and chosen specialisation:\")\n",
    "c.execute(\"SELECT e.name,e.surname,d.name FROM student e join specialisation d\")\n",
    "\n",
    "\n",
    "#get all results,assign them to the list,fecthall() returns empty list if no results\n",
    "listOfResults=c.fetchall()\n",
    "for item in listOfResults:\n",
    "    print(item)\n",
    "\n",
    "\n",
    "# Save (commit) the changes\n",
    "conn.commit()\n",
    "\n",
    "# We close the connection and free all resources\n",
    "conn.close()"
   ]
  },
  {
   "cell_type": "markdown",
   "metadata": {},
   "source": [
    "The code above returns 12 rows. However, we have only 5 students,who have made decision about their specialisation.  The reason of such result is one: the query didn’t specify how the two tables should be joined, the database server generated the Cartesian product, which is every permutation of the two tables."
   ]
  },
  {
   "cell_type": "markdown",
   "metadata": {},
   "source": [
    "### INNER JOIN"
   ]
  },
  {
   "cell_type": "markdown",
   "metadata": {},
   "source": [
    "If we want to obtain only 5 expected rows, then we should modify our query and use inner join statment. We need to describe, how the two tables are related. Earlier, we showed that the student.spec_id column serves as the link between the two tables,\n",
    "so this information needs to be added to the ON subclause of the FROM clause.\n",
    "\n",
    "#### Two tables"
   ]
  },
  {
   "cell_type": "code",
   "execution_count": 17,
   "metadata": {},
   "outputs": [
    {
     "name": "stdout",
     "output_type": "stream",
     "text": [
      "\n",
      "Present all data in student table:\n",
      "(1, 'Tom', 'Silver', 1996, 70, 176, 1)\n",
      "(2, 'Alex', 'Great', 1995, 60, 164, 2)\n",
      "(3, 'Michael', 'Jordan', 1975, 95, 201, 1)\n",
      "(4, 'Ann', 'Green', 1996, 50, 168, 1)\n",
      "(5, 'Jack', 'Gold', 1996, 80, 190, 1)\n",
      "(6, 'Jack', 'Smith', 1996, 75, 175, None)\n",
      "\n",
      "Present all data in specialisation table:\n",
      "(1, 'QF')\n",
      "(2, 'Finance&Accounting')\n",
      "\n",
      " inner join results below.Output table (name,surname,specialisation):\n",
      "('Tom', 'Silver', 'QF')\n",
      "('Alex', 'Great', 'Finance&Accounting')\n",
      "('Michael', 'Jordan', 'QF')\n",
      "('Ann', 'Green', 'QF')\n",
      "('Jack', 'Gold', 'QF')\n"
     ]
    }
   ],
   "source": [
    "def printAll(listOfResults):\n",
    "    for item in listOfResults:\n",
    "        print(item)\n",
    "\n",
    "import sqlite3\n",
    "\n",
    "conn = sqlite3.connect('testdb2.db')\n",
    "\n",
    "c = conn.cursor()\n",
    "\n",
    "c.execute(\"Select * from student\")\n",
    "print(\"\\nPresent all data in student table:\")\n",
    "printAll(c.fetchall())\n",
    "\n",
    "c.execute(\"Select * from specialisation\")\n",
    "print(\"\\nPresent all data in specialisation table:\")\n",
    "printAll(c.fetchall())\n",
    "\n",
    "print(\"\\n inner join results below.Output table (name,surname,specialisation):\")\n",
    "c.execute(\"SELECT e.name,e.surname,d.name FROM student e inner join specialisation d on e.spec_id=d.spec_id\")\n",
    "\n",
    "\n",
    "#get all results,assign them to the list,fecthall() returns empty list if no results\n",
    "listOfResults=c.fetchall()\n",
    "printAll(listOfResults)\n",
    "\n",
    "\n",
    "# save (commit) the changes\n",
    "conn.commit()\n",
    "\n",
    "# we close the connection and free all resources\n",
    "conn.close()"
   ]
  },
  {
   "cell_type": "markdown",
   "metadata": {},
   "source": [
    "If a value exists for the spec_id column in one table but not the other, then the join fails for the rows containing that value and those rows are excluded from the result set.Printed results confirm previous statment while we do not the row which contains None value in spec_id column.\n",
    "\n",
    "*If we do not specify the type of join, then the server will use an inner join by default.\n",
    "\n",
    "Below we present, how we can join data from more than two tables.\n",
    "\n",
    "#### Three tables"
   ]
  },
  {
   "cell_type": "code",
   "execution_count": 4,
   "metadata": {},
   "outputs": [
    {
     "name": "stdout",
     "output_type": "stream",
     "text": [
      "\n",
      "Present all data in student table:\n",
      "(1, 'Tom', 'Silver', 1996, 70, 176, 1)\n",
      "(2, 'Alex', 'Great', 1995, 60, 164, 2)\n",
      "(3, 'Michael', 'Jordan', 1975, 95, 201, 1)\n",
      "(4, 'Ann', 'Green', 1996, 50, 168, 1)\n",
      "(5, 'Jack', 'Gold', 1996, 80, 190, 1)\n",
      "(6, 'Jack', 'Smith', 1996, 75, 175, None)\n",
      "\n",
      "Present all data in student_subject table:\n",
      "(1, 1, 1, 5)\n",
      "(2, 2, 1, 4)\n",
      "(3, 3, 1, 3)\n",
      "(4, 4, 1, 4)\n",
      "\n",
      "Present all data in subject table. Output table (id,student_id,subject_id,grade):\n",
      "(1, 'Python&SQL Intro')\n",
      "(2, 'Advanced Macroeconomics')\n",
      "\n",
      "Print inner join results for three tables. Output table (name,surname,subject,grade) :\n",
      "('Tom', 'Silver', 'Python&SQL Intro', 5)\n",
      "('Alex', 'Great', 'Python&SQL Intro', 4)\n",
      "('Michael', 'Jordan', 'Python&SQL Intro', 3)\n",
      "('Ann', 'Green', 'Python&SQL Intro', 4)\n"
     ]
    }
   ],
   "source": [
    "\n",
    "import sqlite3\n",
    "\n",
    "conn = sqlite3.connect('testdb2.db')\n",
    "\n",
    "c = conn.cursor()\n",
    "\n",
    "c.execute(\"Select * from student\")\n",
    "print(\"\\nPresent all data in student table:\")\n",
    "printAll(c.fetchall())\n",
    "\n",
    "c.execute(\"Select * from student_subject\")\n",
    "print(\"\\nPresent all data in student_subject table:\")\n",
    "printAll(c.fetchall())\n",
    "\n",
    "c.execute(\"Select * from subject\")\n",
    "print(\"\\nPresent all data in subject table. Output table (id,student_id,subject_id,grade):\")\n",
    "printAll(c.fetchall())\n",
    "\n",
    "print(\"\\nPrint inner join results for three tables. Output table (name,surname,subject,grade) :\")\n",
    "c.execute(\"SELECT e.name,e.surname,s.name,d.grade FROM student e inner join student_subject d on e.student_id=d.student_id \\\n",
    "          inner join subject s on d.subject_id=s.subject_id\")\n",
    "\n",
    "\n",
    "#get all results,assign them to the list,fecthall() returns empty list if no results\n",
    "listOfResults=c.fetchall()\n",
    "printAll(listOfResults)\n",
    "\n",
    "\n",
    "# save (commit) the changes\n",
    "conn.commit()\n",
    "\n",
    "# close the connection and free all resources\n",
    "conn.close()"
   ]
  },
  {
   "cell_type": "markdown",
   "metadata": {},
   "source": [
    "## OUTER JOIN"
   ]
  },
  {
   "cell_type": "markdown",
   "metadata": {},
   "source": [
    "Let's assume that, we want to obtain the list of students and their specialistation (also the cases when specialisation was not chosen). The inner join conditions will fail to find matches for all the rows in the students table,while some students did not make decision about their specialistion. This time the correct resul can be obtained withe outer join.\n",
    "\n",
    "#### Left outer join\n",
    "\n",
    "The keyword left indicates that the table on the left side of the join is responsible for determining the number of rows in the result set, whereas the table on the right side is used to provide column values whenever a match is found."
   ]
  },
  {
   "cell_type": "code",
   "execution_count": 5,
   "metadata": {},
   "outputs": [
    {
     "name": "stdout",
     "output_type": "stream",
     "text": [
      "\n",
      "Present all data in student table:\n",
      "(1, 'Tom', 'Silver', 1996, 70, 176, 1)\n",
      "(2, 'Alex', 'Great', 1995, 60, 164, 2)\n",
      "(3, 'Michael', 'Jordan', 1975, 95, 201, 1)\n",
      "(4, 'Ann', 'Green', 1996, 50, 168, 1)\n",
      "(5, 'Jack', 'Gold', 1996, 80, 190, 1)\n",
      "(6, 'Jack', 'Smith', 1996, 75, 175, None)\n",
      "\n",
      "Present all data in specialisation table:\n",
      "(1, 'QF')\n",
      "(2, 'Finance&Accounting')\n",
      "\n",
      " left outer join results below:\n",
      "('Tom', 'Silver', 'QF')\n",
      "('Alex', 'Great', 'Finance&Accounting')\n",
      "('Michael', 'Jordan', 'QF')\n",
      "('Ann', 'Green', 'QF')\n",
      "('Jack', 'Gold', 'QF')\n",
      "('Jack', 'Smith', None)\n",
      "\n",
      " right outer join results below:\n"
     ]
    },
    {
     "ename": "OperationalError",
     "evalue": "RIGHT and FULL OUTER JOINs are not currently supported",
     "output_type": "error",
     "traceback": [
      "\u001b[1;31m---------------------------------------------------------------------------\u001b[0m",
      "\u001b[1;31mOperationalError\u001b[0m                          Traceback (most recent call last)",
      "\u001b[1;32m<ipython-input-5-8b9eec53be29>\u001b[0m in \u001b[0;36m<module>\u001b[1;34m\u001b[0m\n\u001b[0;32m     22\u001b[0m \u001b[1;33m\u001b[0m\u001b[0m\n\u001b[0;32m     23\u001b[0m \u001b[0mprint\u001b[0m\u001b[1;33m(\u001b[0m\u001b[1;34m\"\\n right outer join results below:\"\u001b[0m\u001b[1;33m)\u001b[0m\u001b[1;33m\u001b[0m\u001b[1;33m\u001b[0m\u001b[0m\n\u001b[1;32m---> 24\u001b[1;33m \u001b[0mc\u001b[0m\u001b[1;33m.\u001b[0m\u001b[0mexecute\u001b[0m\u001b[1;33m(\u001b[0m\u001b[1;34m\"SELECT e.name,e.surname,d.name FROM student e right outer join specialisation d on e.spec_id=d.spec_id\"\u001b[0m\u001b[1;33m)\u001b[0m\u001b[1;33m\u001b[0m\u001b[1;33m\u001b[0m\u001b[0m\n\u001b[0m\u001b[0;32m     25\u001b[0m \u001b[1;33m\u001b[0m\u001b[0m\n\u001b[0;32m     26\u001b[0m \u001b[1;33m\u001b[0m\u001b[0m\n",
      "\u001b[1;31mOperationalError\u001b[0m: RIGHT and FULL OUTER JOINs are not currently supported"
     ]
    }
   ],
   "source": [
    "\n",
    "import sqlite3\n",
    "\n",
    "conn = sqlite3.connect('testdb2.db')\n",
    "\n",
    "c = conn.cursor()\n",
    "\n",
    "c.execute(\"Select * from student\")\n",
    "print(\"\\nPresent all data in student table:\")\n",
    "printAll(c.fetchall())\n",
    "\n",
    "c.execute(\"Select * from specialisation\")\n",
    "print(\"\\nPresent all data in specialisation table:\")\n",
    "printAll(c.fetchall())\n",
    "\n",
    "print(\"\\n left outer join results below:\")\n",
    "c.execute(\"SELECT e.name,e.surname,d.name FROM student e left outer join specialisation d on e.spec_id=d.spec_id\")\n",
    "\n",
    "\n",
    "#get all results,assign them to the list,fecthall() returns empty list if no results\n",
    "printAll(c.fetchall())\n",
    "\n",
    "\n",
    "print(\"\\n right outer join results below:\")\n",
    "c.execute(\"SELECT e.name,e.surname,d.name FROM student e right outer join specialisation d on e.spec_id=d.spec_id\")\n",
    "\n",
    "\n",
    "#get all results,assign them to the list,fecthall() returns empty list if no results\n",
    "printAll(c.fetchall())\n",
    "\n",
    "#save (commit) the changes\n",
    "conn.commit()\n",
    "\n",
    "#close the connection and free all resources\n",
    "conn.close()"
   ]
  },
  {
   "cell_type": "markdown",
   "metadata": {},
   "source": [
    "*Right outer join is not supported in SQLite. However, the other database systems (MySQL,Oracle) allow us to use it. The expected result is the output table in which number of rows is equal to the number of rows in specialisation table  "
   ]
  },
  {
   "cell_type": "markdown",
   "metadata": {},
   "source": [
    "## Working with sets"
   ]
  },
  {
   "cell_type": "markdown",
   "metadata": {},
   "source": [
    "### UNION and UNION ALL statment"
   ]
  },
  {
   "cell_type": "markdown",
   "metadata": {},
   "source": [
    "The SQLite UNION/UNION ALL operator is used to combine the result sets of 2 or more SELECT statements.\n",
    "Each SELECT statement within the UNION operator must have the same number of fields in the result sets with similar data type.\n",
    "Remeber,UNION statment sorts results and removes duplicates from the output set!\n",
    "\n",
    "<img src=\"union.png\">\n"
   ]
  },
  {
   "cell_type": "markdown",
   "metadata": {},
   "source": [
    "### EXCEPT statment"
   ]
  },
  {
   "cell_type": "markdown",
   "metadata": {},
   "source": [
    "The EXCEPT operator will retrieve all records from the first dataset and then remove from the results all records from the second dataset.Each SELECT statement within the EXCEPT query must have the same number of fields in the result sets with similar data types\n",
    "<img src=\"except.png\">"
   ]
  },
  {
   "cell_type": "markdown",
   "metadata": {},
   "source": [
    "### INTERSECT statment"
   ]
  },
  {
   "cell_type": "markdown",
   "metadata": {},
   "source": [
    "The INTERSECT operator returns the intersection of 2 or more datasets. Each dataset is defined by a SELECT statement. If the record exists in both data set, then it will be included in the results.\n",
    "\n",
    "<img src=\"intersect.png\">"
   ]
  },
  {
   "cell_type": "code",
   "execution_count": 12,
   "metadata": {},
   "outputs": [
    {
     "name": "stdout",
     "output_type": "stream",
     "text": [
      "\n",
      "Present all data in student table:\n",
      "(1, 'Tom', 'Silver', 1996, 70, 176, 1)\n",
      "(2, 'Alex', 'Great', 1995, 60, 164, 2)\n",
      "(3, 'Michael', 'Jordan', 1975, 95, 201, 1)\n",
      "(4, 'Ann', 'Green', 1996, 50, 168, 1)\n",
      "(5, 'Jack', 'Gold', 1996, 80, 190, 1)\n",
      "(6, 'Jack', 'Smith', 1996, 75, 175, None)\n",
      "\n",
      "Present all data in staff table:\n",
      "(1, 'Alfred', 'Brown', 1969)\n",
      "(2, 'Tom', 'White', 1954)\n",
      "(3, 'Michael', 'Jordan', 1975)\n",
      "\n",
      "union results below:(results are unique and ordered)\n",
      "(1, 'Alfred', 'Brown')\n",
      "(1, 'Tom', 'Silver')\n",
      "(2, 'Alex', 'Great')\n",
      "(2, 'Tom', 'White')\n",
      "(3, 'Michael', 'Jordan')\n",
      "(4, 'Ann', 'Green')\n",
      "(5, 'Jack', 'Gold')\n",
      "(6, 'Jack', 'Smith')\n",
      "\n",
      "union all results below: (results contain duplicates and results are not ordered)\n",
      "(1, 'Tom', 'Silver')\n",
      "(2, 'Alex', 'Great')\n",
      "(3, 'Michael', 'Jordan')\n",
      "(4, 'Ann', 'Green')\n",
      "(5, 'Jack', 'Gold')\n",
      "(6, 'Jack', 'Smith')\n",
      "(1, 'Alfred', 'Brown')\n",
      "(2, 'Tom', 'White')\n",
      "(3, 'Michael', 'Jordan')\n",
      "\n",
      "except statment results below:\n",
      "(1, 'Tom', 'Silver')\n",
      "(2, 'Alex', 'Great')\n",
      "(4, 'Ann', 'Green')\n",
      "(5, 'Jack', 'Gold')\n",
      "(6, 'Jack', 'Smith')\n",
      "\n",
      "intersect statment results below:\n",
      "(3, 'Michael', 'Jordan')\n"
     ]
    }
   ],
   "source": [
    "def printAll(listOfResultsA):\n",
    "    for item in listOfResultsA:\n",
    "        print(item)\n",
    "    \n",
    "\n",
    "import sqlite3\n",
    "\n",
    "conn = sqlite3.connect('testdb2.db')\n",
    "\n",
    "c = conn.cursor()\n",
    "\n",
    "c.execute(\"Select * from student\")\n",
    "print(\"\\nPresent all data in student table:\")\n",
    "printAll(c.fetchall())\n",
    "\n",
    "c.execute(\"Select * from staff\")\n",
    "print(\"\\nPresent all data in staff table:\")\n",
    "printAll(c.fetchall())\n",
    "\n",
    "#UNION\n",
    "print(\"\\nunion results below:(results are unique and ordered)\")\n",
    "c.execute(\"SELECT e.student_id,e.name,e.surname FROM student e union SELECT s.staff_id,s.name,s.surname FROM staff s\")\n",
    "\n",
    "\n",
    "#get all results,assign them to the list,fecthall() returns empty list if no results\n",
    "printAll(c.fetchall())\n",
    "\n",
    "#UNION ALL\n",
    "print(\"\\nunion all results below: (results contain duplicates and results are not ordered)\")\n",
    "c.execute(\"SELECT e.student_id,e.name,e.surname FROM student e union all SELECT s.staff_id,s.name,s.surname FROM staff s\")\n",
    "\n",
    "\n",
    "#get all results,assign them to the list,fecthall() returns empty list if no results\n",
    "printAll(c.fetchall())\n",
    "\n",
    "\n",
    "#EXCEPT\n",
    "\n",
    "print(\"\\nexcept statment results below:\")\n",
    "c.execute(\"SELECT e.student_id,e.name,e.surname FROM student e except SELECT s.staff_id,s.name,s.surname FROM staff s\")\n",
    "\n",
    "\n",
    "#get all results,assign them to the list,fecthall() returns empty list if no results\n",
    "printAll(c.fetchall())\n",
    "\n",
    "\n",
    "#INTERSECT\n",
    "print(\"\\nintersect statment results below:\")\n",
    "c.execute(\"SELECT e.student_id,e.name,e.surname FROM student e intersect SELECT s.staff_id,s.name,s.surname FROM staff s\")\n",
    "\n",
    "\n",
    "#get all results,assign them to the list,fecthall() returns empty list if no results\n",
    "printAll(c.fetchall())\n",
    "\n",
    "# Save (commit) the changes\n",
    "conn.commit()\n",
    "\n",
    "# We close the connection and free all resources\n",
    "conn.close()"
   ]
  },
  {
   "cell_type": "markdown",
   "metadata": {},
   "source": [
    "### Grouping and agregate functions"
   ]
  },
  {
   "cell_type": "markdown",
   "metadata": {},
   "source": [
    "The other important feature of SQLite is the trends analysis. Let's say, that we need to know how many students were born during each year. We use GROUP BY and COUNT(*) statments for that task. The GROUP BY statment divides the data basing on info stored in selected column (here column name is birth) or columns,while COUNT(*) calculates number of rows in each group.  "
   ]
  },
  {
   "cell_type": "markdown",
   "metadata": {},
   "source": [
    "#### GROUP BY"
   ]
  },
  {
   "cell_type": "code",
   "execution_count": 5,
   "metadata": {},
   "outputs": [
    {
     "name": "stdout",
     "output_type": "stream",
     "text": [
      "\n",
      "Present all data in student table:\n",
      "(1, 'Tom', 'Silver', 1996, 70, 176, 1)\n",
      "(2, 'Alex', 'Great', 1995, 60, 164, 2)\n",
      "(3, 'Michael', 'Jordan', 1975, 95, 201, 1)\n",
      "(4, 'Ann', 'Green', 1996, 50, 168, 1)\n",
      "(5, 'Jack', 'Gold', 1996, 80, 190, 1)\n",
      "(6, 'Jack', 'Smith', 1996, 75, 175, None)\n",
      "\n",
      "Student table records grouped by year of birth. Output (birth,count):\n",
      "(1975, 1)\n",
      "(1995, 1)\n",
      "(1996, 4)\n"
     ]
    }
   ],
   "source": [
    "def printAll(listOfResultsA):\n",
    "    for item in listOfResultsA:\n",
    "        print(item)\n",
    "    \n",
    "\n",
    "import sqlite3\n",
    "\n",
    "conn = sqlite3.connect('testdb2.db')\n",
    "\n",
    "c = conn.cursor()\n",
    "\n",
    "c.execute(\"Select * from student\")\n",
    "print(\"\\nPresent all data in student table:\")\n",
    "printAll(c.fetchall())\n",
    "\n",
    "#GROUP BY\n",
    "print(\"\\nStudent table records grouped by year of birth. Output (birth,count):\")\n",
    "c.execute(\"SELECT e.birth,COUNT(*) FROM student e GROUP BY e.birth \")\n",
    "\n",
    "\n",
    "#get all results,assign them to the list,fecthall() returns empty list if no results\n",
    "printAll(c.fetchall())\n",
    "\n",
    "\n",
    "# Save (commit) the changes\n",
    "conn.commit()\n",
    "\n",
    "# We close the connection and free all resources\n",
    "conn.close()"
   ]
  },
  {
   "cell_type": "markdown",
   "metadata": {},
   "source": [
    "#### Agregate functions"
   ]
  },
  {
   "cell_type": "markdown",
   "metadata": {},
   "source": [
    "Aggregate functions perform a specific operation over all rows in a group. Although\n",
    "every database server has its own set of specialty aggregate functions, the common\n",
    "aggregate functions implemented by all major servers include:\n",
    "    \n",
    "    * Max() Returns the maximum value within a set\n",
    "    * Min() Returns the minimum value within a set\n",
    "    * Avg() Returns the average value across a set\n",
    "    * Sum() Returns the sum of the values across a set\n",
    "    * Count() Returns the number of values in a set"
   ]
  },
  {
   "cell_type": "code",
   "execution_count": 6,
   "metadata": {},
   "outputs": [
    {
     "name": "stdout",
     "output_type": "stream",
     "text": [
      "\n",
      "Present all data in student table:\n",
      "(1, 'Tom', 'Silver', 1996, 70, 176, 1)\n",
      "(2, 'Alex', 'Great', 1995, 60, 164, 2)\n",
      "(3, 'Michael', 'Jordan', 1975, 95, 201, 1)\n",
      "(4, 'Ann', 'Green', 1996, 50, 168, 1)\n",
      "(5, 'Jack', 'Gold', 1996, 80, 190, 1)\n",
      "(6, 'Jack', 'Smith', 1996, 75, 175, None)\n",
      "\n",
      " basic statistics for student table records grouped by year of birth.  Output( max_weight,min_weight,avg_weight,count):\n",
      "(1975, 95, 95, 95.0, 1)\n",
      "(1995, 60, 60, 60.0, 1)\n",
      "(1996, 80, 50, 68.75, 4)\n"
     ]
    }
   ],
   "source": [
    "\n",
    "import sqlite3\n",
    "\n",
    "conn = sqlite3.connect('testdb2.db')\n",
    "\n",
    "c = conn.cursor()\n",
    "\n",
    "c.execute(\"Select * from student\")\n",
    "print(\"\\nPresent all data in student table:\")\n",
    "printAll(c.fetchall())\n",
    "\n",
    "#GROUP BY+agregate functions\n",
    "print(\"\\n basic statistics for student table records grouped by year of birth.  Output( max_weight,min_weight,avg_weight,count):\")\n",
    "c.execute(\"SELECT e.birth,MAX(e.weight),MIN(e.weight),AVG(e.weight),COUNT(*) FROM student e GROUP BY e.birth \")\n",
    "\n",
    "\n",
    "#get all results,assign them to the list,fecthall() returns empty list if no results\n",
    "printAll(c.fetchall())\n",
    "\n",
    "\n",
    "# Save (commit) the changes\n",
    "conn.commit()\n",
    "\n",
    "# We close the connection and free all resources\n",
    "conn.close()"
   ]
  },
  {
   "cell_type": "markdown",
   "metadata": {},
   "source": [
    "### Arithmetic operators + built-in math functions"
   ]
  },
  {
   "cell_type": "markdown",
   "metadata": {},
   "source": [
    "In SQLite, we can use standard arithmetic operators (+,-,*/) and many built-in math functions which we cane use to operate on \n",
    "values stored in columns:\n",
    "    * Acos(x) Calculates the arc cosine of x\n",
    "    * Asin(x) Calculates the arc sine of x\n",
    "    * Atan(x) Calculates the arc tangent of x\n",
    "    * Cos(x) Calculates the cosine of x\n",
    "    * Cot(x) Calculates the cotangent of x\n",
    "    * Exp(x) Calculates ex\n",
    "    * Abs(x) Calculates absolute value of x\n",
    "    * Ln(x) Calculates the natural log of x\n",
    "    * Sin(x) Calculates the sine of x\n",
    "    * Sqrt(x) Calculates the square root of x\n",
    "    * Tan(x) Calculates the tangent of x\n",
    "\n",
    "*Remember,when we divide one integer value by second integer value the result is closest integer value.\n",
    "If we want to obtain correct results we should use CAST() function and covert values to float. Precision of printed results can be set with ROUND(arg1,arg2) function, where arg2 points number of decimal places in the ouput.\n",
    "\n",
    "We calculate BMI values for each student in the example below:"
   ]
  },
  {
   "cell_type": "code",
   "execution_count": 7,
   "metadata": {},
   "outputs": [
    {
     "name": "stdout",
     "output_type": "stream",
     "text": [
      "\n",
      "Present all data in student table:\n",
      "(1, 'Tom', 'Silver', 1996, 70, 176, 1)\n",
      "(2, 'Alex', 'Great', 1995, 60, 164, 2)\n",
      "(3, 'Michael', 'Jordan', 1975, 95, 201, 1)\n",
      "(4, 'Ann', 'Green', 1996, 50, 168, 1)\n",
      "(5, 'Jack', 'Gold', 1996, 80, 190, 1)\n",
      "(6, 'Jack', 'Smith', 1996, 75, 175, None)\n",
      "\n",
      "BMI results for each student:\n",
      "(1, 'Tom', 'Silver', 70, 176, 22.59814049586777, 22.6)\n",
      "(2, 'Alex', 'Great', 60, 164, 22.3081499107674, 22.31)\n",
      "(3, 'Michael', 'Jordan', 95, 201, 23.514269448776027, 23.51)\n",
      "(4, 'Ann', 'Green', 50, 168, 17.715419501133788, 17.72)\n",
      "(5, 'Jack', 'Gold', 80, 190, 22.1606648199446, 22.16)\n",
      "(6, 'Jack', 'Smith', 75, 175, 24.489795918367346, 24.49)\n"
     ]
    }
   ],
   "source": [
    "import sqlite3\n",
    "\n",
    "conn = sqlite3.connect('testdb2.db')\n",
    "\n",
    "c = conn.cursor()\n",
    "\n",
    "c.execute(\"Select * from student\")\n",
    "print(\"\\nPresent all data in student table:\")\n",
    "printAll(c.fetchall())\n",
    "\n",
    "#calculate BMI values\n",
    "print(\"\\nBMI results for each student:\")\n",
    "c.execute(\"SELECT e.student_id,e.name,e.surname,e.weight,e.height, \\\n",
    "          CAST(e.weight as FLOAT)/(CAST(e.height as float)/100 *CAST(e.height as float)/100), \\\n",
    "          ROUND(CAST(e.weight as FLOAT)/(CAST(e.height as float)/100 *CAST(e.height as float)/100),2) \\\n",
    "          FROM student e\")\n",
    "\n",
    "\n",
    "#get all results,assign them to the list,fecthall() returns empty list if no results\n",
    "printAll(c.fetchall())\n",
    "\n",
    "\n",
    "# Save (commit) the changes\n",
    "conn.commit()\n",
    "\n",
    "# We close the connection and free all resources\n",
    "conn.close()"
   ]
  },
  {
   "cell_type": "markdown",
   "metadata": {},
   "source": [
    "### Subqueries"
   ]
  },
  {
   "cell_type": "markdown",
   "metadata": {},
   "source": [
    "A subquery is a query contained within another SQL statement. A subquery is always enclosed within parentheses and returns result set which can consist of:\n",
    " * A single row with a single column (example below)\n",
    " * Multiple rows with a single column (example below)\n",
    " * Multiple rows and columns\n",
    " \n",
    " Remeber,when subquery returns many rows then in WHERE statment we should use IN or NOT IN operator.\n"
   ]
  },
  {
   "cell_type": "code",
   "execution_count": 8,
   "metadata": {
    "scrolled": true
   },
   "outputs": [
    {
     "name": "stdout",
     "output_type": "stream",
     "text": [
      "\n",
      "Present all data in student table:\n",
      "(1, 'Tom', 'Silver', 1996, 70, 176, 1)\n",
      "(2, 'Alex', 'Great', 1995, 60, 164, 2)\n",
      "(3, 'Michael', 'Jordan', 1975, 95, 201, 1)\n",
      "(4, 'Ann', 'Green', 1996, 50, 168, 1)\n",
      "(5, 'Jack', 'Gold', 1996, 80, 190, 1)\n",
      "(6, 'Jack', 'Smith', 1996, 75, 175, None)\n",
      "\n",
      "Present all data in student_subject table:\n",
      "(1, 1, 1, 5)\n",
      "(2, 2, 1, 4)\n",
      "(3, 3, 1, 3)\n",
      "(4, 4, 1, 4)\n",
      "\n",
      "name and surname of the student who got 5:\n",
      "(1, 'Tom', 'Silver')\n",
      "\n",
      "names and surnames of the students who got 4:\n",
      "(2, 'Alex', 'Great')\n",
      "(4, 'Ann', 'Green')\n"
     ]
    }
   ],
   "source": [
    "def printAll(listOfResultsA):\n",
    "    for item in listOfResultsA:\n",
    "        print(item)\n",
    "    \n",
    "\n",
    "import sqlite3\n",
    "\n",
    "conn = sqlite3.connect('testdb2.db')\n",
    "\n",
    "c = conn.cursor()\n",
    "\n",
    "c.execute(\"Select * from student\")\n",
    "print(\"\\nPresent all data in student table:\")\n",
    "printAll(c.fetchall())\n",
    "\n",
    "c.execute(\"Select * from student_subject\")\n",
    "print(\"\\nPresent all data in student_subject table:\")\n",
    "printAll(c.fetchall())\n",
    "\n",
    "#return the name and surname of the student, who got 5,\n",
    "#subquery returns single row and single column\n",
    "print(\"\\nname and surname of the student who got 5:\")\n",
    "c.execute(\"SELECT e.student_id,e.name,e.surname \\\n",
    "          FROM student e where e.student_id=\\\n",
    "          (SELECT s.student_id from student_subject s where s.grade=5)\")\n",
    "\n",
    "#get all results,assign them to the list,fecthall() returns empty list if no results\n",
    "printAll(c.fetchall())\n",
    "\n",
    "\n",
    "#return the name and surname of the students, who got 4,\n",
    "#subquery returns multiple rows and single column\n",
    "print(\"\\nnames and surnames of the students who got 4:\")\n",
    "c.execute(\"SELECT e.student_id,e.name,e.surname \\\n",
    "          FROM student e where e.student_id IN \\\n",
    "          (SELECT s.student_id from student_subject s where s.grade=4)\")\n",
    "\n",
    "#get all results,assign them to the list,fecthall() returns empty list if no results\n",
    "printAll(c.fetchall())\n",
    "\n",
    "\n",
    "# Save (commit) the changes\n",
    "conn.commit()\n",
    "\n",
    "# We close the connection and free all resources\n",
    "conn.close()"
   ]
  },
  {
   "cell_type": "markdown",
   "metadata": {},
   "source": [
    "### INDEXES"
   ]
  },
  {
   "cell_type": "markdown",
   "metadata": {},
   "source": [
    "When we execute INSERT statment,the database server does not  put new record in any particular location within the table. Server places the data in the next free location within the file. When you query the student table for students whose name starts with 'J', the server will need to analyse every row of the table. \n",
    "\n",
    "You can decide to add an extra index to student table to speed up any queries that specify student name.\n",
    "If exists more than one index on a table,the optimizer decides which index will be the most beneficial for a particular SQL\n",
    "statement.\n",
    "\n",
    "#### CREATE INDEX\n",
    "We create new index using CREATE INDEX statment. If you create an index that consists of one column, SQLite uses that column as the sort key. In case you create an index that has multiple columns, SQLite uses the additional columns as the second, third, … sort keys.\n"
   ]
  },
  {
   "cell_type": "code",
   "execution_count": 14,
   "metadata": {},
   "outputs": [
    {
     "name": "stdout",
     "output_type": "stream",
     "text": [
      "\n",
      "we add extra index on column 'name' in student table\n",
      "\n",
      "we add extra index on two columns: 'weight' and 'height' in student table\n"
     ]
    }
   ],
   "source": [
    "import sqlite3\n",
    "\n",
    "conn = sqlite3.connect('testdb2.db')\n",
    "\n",
    "c = conn.cursor()\n",
    "\n",
    "#add extra index on one column \n",
    "print(\"\\nwe add extra index on column 'name' in student table\")\n",
    "c.execute(\"CREATE INDEX idx_student_name ON student (name)\")\n",
    "\n",
    "#get all results,assign them to the list,fecthall() returns empty list if no results\n",
    "printAll(c.fetchall())\n",
    "\n",
    "#add extra index on two columns \n",
    "print(\"\\nwe add extra index on two columns: 'weight' and 'height' in student table\")\n",
    "c.execute(\"CREATE INDEX idx_student_weight_height ON student (weight,height)\")\n",
    "\n",
    "#get all results,assign them to the list,fecthall() returns empty list if no results\n",
    "printAll(c.fetchall())\n",
    "\n",
    "# Save (commit) the changes\n",
    "conn.commit()\n",
    "\n",
    "# We close the connection and free all resources\n",
    "conn.close()"
   ]
  },
  {
   "cell_type": "markdown",
   "metadata": {},
   "source": [
    "The code below, returns all the students, whose name starts with 'J':\n"
   ]
  },
  {
   "cell_type": "code",
   "execution_count": 15,
   "metadata": {},
   "outputs": [
    {
     "name": "stdout",
     "output_type": "stream",
     "text": [
      "\n",
      "Present all data in student table:\n",
      "(1, 'Tom', 'Silver', 1996, 70, 176, 1)\n",
      "(2, 'Alex', 'Great', 1995, 60, 164, 2)\n",
      "(3, 'Michael', 'Jordan', 1975, 95, 201, 1)\n",
      "(4, 'Ann', 'Green', 1996, 50, 168, 1)\n",
      "(5, 'Jack', 'Gold', 1996, 80, 190, 1)\n",
      "(6, 'Jack', 'Smith', 1996, 75, 175, None)\n",
      "\n",
      "students whose name starts with 'J':\n",
      "(5, 'Jack', 'Gold')\n",
      "(6, 'Jack', 'Smith')\n"
     ]
    }
   ],
   "source": [
    "def printAll(listOfResultsA):\n",
    "    for item in listOfResultsA:\n",
    "        print(item)\n",
    "    \n",
    "\n",
    "import sqlite3\n",
    "\n",
    "conn = sqlite3.connect('testdb2.db')\n",
    "\n",
    "c = conn.cursor()\n",
    "\n",
    "c.execute(\"Select * from student\")\n",
    "print(\"\\nPresent all data in student table:\")\n",
    "printAll(c.fetchall())\n",
    "\n",
    "#return students whose name starts with J'\n",
    "print(\"\\nstudents whose name starts with 'J':\")\n",
    "c.execute(\"SELECT e.student_id,e.name,e.surname from student e where e.name LIKE 'J%'\")\n",
    "\n",
    "#get all results,assign them to the list,fecthall() returns empty list if no results\n",
    "printAll(c.fetchall())\n",
    "\n",
    "\n",
    "#save (commit) the changes\n",
    "conn.commit()\n",
    "\n",
    "#close the connection and free all resources\n",
    "conn.close()"
   ]
  },
  {
   "cell_type": "markdown",
   "metadata": {},
   "source": [
    "#### DROP INDEX"
   ]
  },
  {
   "cell_type": "code",
   "execution_count": 17,
   "metadata": {},
   "outputs": [
    {
     "name": "stdout",
     "output_type": "stream",
     "text": [
      "\n",
      "we delete  idx_student_name index\n"
     ]
    },
    {
     "ename": "OperationalError",
     "evalue": "no such index: idx_student_name",
     "output_type": "error",
     "traceback": [
      "\u001b[1;31m---------------------------------------------------------------------------\u001b[0m",
      "\u001b[1;31mOperationalError\u001b[0m                          Traceback (most recent call last)",
      "\u001b[1;32m<ipython-input-17-7034e8064014>\u001b[0m in \u001b[0;36m<module>\u001b[1;34m\u001b[0m\n\u001b[0;32m      8\u001b[0m \u001b[1;31m#delete index,\u001b[0m\u001b[1;33m\u001b[0m\u001b[1;33m\u001b[0m\u001b[1;33m\u001b[0m\u001b[0m\n\u001b[0;32m      9\u001b[0m \u001b[0mprint\u001b[0m\u001b[1;33m(\u001b[0m\u001b[1;34m\"\\nwe delete  idx_student_name index\"\u001b[0m\u001b[1;33m)\u001b[0m\u001b[1;33m\u001b[0m\u001b[1;33m\u001b[0m\u001b[0m\n\u001b[1;32m---> 10\u001b[1;33m \u001b[0mc\u001b[0m\u001b[1;33m.\u001b[0m\u001b[0mexecute\u001b[0m\u001b[1;33m(\u001b[0m\u001b[1;34m\"DROP INDEX idx_student_name \"\u001b[0m\u001b[1;33m)\u001b[0m\u001b[1;33m\u001b[0m\u001b[1;33m\u001b[0m\u001b[0m\n\u001b[0m\u001b[0;32m     11\u001b[0m \u001b[1;33m\u001b[0m\u001b[0m\n\u001b[0;32m     12\u001b[0m \u001b[1;31m#get all results,assign them to the list,fecthall() returns empty list if no results\u001b[0m\u001b[1;33m\u001b[0m\u001b[1;33m\u001b[0m\u001b[1;33m\u001b[0m\u001b[0m\n",
      "\u001b[1;31mOperationalError\u001b[0m: no such index: idx_student_name"
     ]
    }
   ],
   "source": [
    "import sqlite3\n",
    "\n",
    "conn = sqlite3.connect('testdb2.db')\n",
    "\n",
    "c = conn.cursor()\n",
    "\n",
    "\n",
    "#delete index,\n",
    "print(\"\\nwe delete  idx_student_name index\")\n",
    "c.execute(\"DROP INDEX idx_student_name \")\n",
    "\n",
    "#get all results,assign them to the list,fecthall() returns empty list if no results\n",
    "printAll(c.fetchall())\n",
    "\n",
    "print(\"\\nwe delete  idx_student_weight_height\")\n",
    "c.execute(\"DROP INDEX idx_student_weight_height\")\n",
    "\n",
    "#get all results,assign them to the list,fecthall() returns empty list if no results\n",
    "printAll(c.fetchall())\n",
    "\n",
    "#save (commit) the changes\n",
    "conn.commit()\n",
    "\n",
    "#close the connection and free all resources\n",
    "conn.close()"
   ]
  },
  {
   "cell_type": "markdown",
   "metadata": {},
   "source": [
    "### Views"
   ]
  },
  {
   "cell_type": "markdown",
   "metadata": {},
   "source": [
    "Views can be treated as a querying data mechanism. The good side of the views is that the views do not fill up free disk space. Once the view is created we use it like a virtual table,so we can:\n",
    "    * select data\n",
    "    * join view with the other tables\n",
    "    * sometimes modify data though the view (MySQL,Oracle,SQL Server)\n",
    "    \n",
    "Why we use views?:\n",
    "    * to structure data in a way that users or classes of users find natural or intuitive,\n",
    "\n",
    "    * to restrict access to the data such that a user can only see limited data instead of a complete table,\n",
    "\n",
    "    * to summarize data from various tables, which can be used to generate reports.\n",
    "\n",
    "#### CREATE VIEW"
   ]
  },
  {
   "cell_type": "code",
   "execution_count": 18,
   "metadata": {},
   "outputs": [
    {
     "name": "stdout",
     "output_type": "stream",
     "text": [
      "\n",
      "Present all data in student table:\n",
      "(1, 'Tom', 'Silver', 1996, 70, 176, 1)\n",
      "(2, 'Alex', 'Great', 1995, 60, 164, 2)\n",
      "(3, 'Michael', 'Jordan', 1975, 95, 201, 1)\n",
      "(4, 'Ann', 'Green', 1996, 50, 168, 1)\n",
      "(5, 'Jack', 'Gold', 1996, 80, 190, 1)\n",
      "(6, 'Jack', 'Smith', 1996, 75, 175, None)\n",
      "\n",
      "Create new view v_allData, which contains only students who made decision about their specialisation\n",
      "\n",
      "Present all data in view v_allData\n",
      "('Tom', 'Silver', 'QF')\n",
      "('Alex', 'Great', 'Finance&Accounting')\n",
      "('Michael', 'Jordan', 'QF')\n",
      "('Ann', 'Green', 'QF')\n",
      "('Jack', 'Gold', 'QF')\n"
     ]
    }
   ],
   "source": [
    "def printAll(listOfResultsA):\n",
    "    for item in listOfResultsA:\n",
    "        print(item)\n",
    "    \n",
    "\n",
    "import sqlite3\n",
    "\n",
    "conn = sqlite3.connect('testdb2.db')\n",
    "\n",
    "c = conn.cursor()\n",
    "\n",
    "c.execute(\"Select * from student\")\n",
    "print(\"\\nPresent all data in student table:\")\n",
    "printAll(c.fetchall())\n",
    "\n",
    "#create new view\n",
    "print(\"\\nCreate new view v_allData, which contains only students who made decision about their specialisation\")\n",
    "c.execute(\"CREATE VIEW v_allData AS SELECT e.name,e.surname,d.name FROM student e inner join specialisation d on e.spec_id=d.spec_id\")\n",
    "#get all results,assign them to the list,fecthall() returns empty list if no results\n",
    "printAll(c.fetchall())\n",
    "\n",
    "#read data from new view\n",
    "print(\"\\nPresent all data in view v_allData\")\n",
    "c.execute(\"select* from v_allData\")\n",
    "#get all results,assign them to the list,fecthall() returns empty list if no results\n",
    "printAll(c.fetchall())\n",
    "\n",
    "#save (commit) the changes\n",
    "conn.commit()\n",
    "\n",
    "# We close the connection and free all resources\n",
    "conn.close()"
   ]
  },
  {
   "cell_type": "markdown",
   "metadata": {},
   "source": [
    "#### DROP VIEW\n",
    "\n",
    "We delete view from the database using DROP VIEW statment:"
   ]
  },
  {
   "cell_type": "code",
   "execution_count": 19,
   "metadata": {},
   "outputs": [
    {
     "name": "stdout",
     "output_type": "stream",
     "text": [
      "\n",
      "Delete view v_allData\n"
     ]
    }
   ],
   "source": [
    "def printAll(listOfResultsA):\n",
    "    for item in listOfResultsA:\n",
    "        print(item)\n",
    "\n",
    "import sqlite3\n",
    "\n",
    "    \n",
    "conn = sqlite3.connect('testdb2.db')\n",
    "\n",
    "c = conn.cursor()\n",
    "\n",
    "#read data from new view\n",
    "print(\"\\nDelete view v_allData\")\n",
    "c.execute(\"DROP VIEW v_allData\")\n",
    "#get all results,assign them to the list,fecthall() returns empty list if no results\n",
    "printAll(c.fetchall())\n",
    "\n",
    "# Save (commit) the changes\n",
    "conn.commit()\n",
    "\n",
    "# We close the connection and free all resources\n",
    "conn.close()"
   ]
  },
  {
   "cell_type": "markdown",
   "metadata": {},
   "source": [
    "### TRIGGERS\n",
    "\n",
    "An SQLite trigger is a named database object that is executed automatically when an INSERT, UPDATE, or DELETE statement is issued against the associated table.\n",
    "\n",
    "Most often we use triggers when we want to log some important changes in database:money withdraw, password change.\n",
    "\n",
    "Trigger can be fired in 9 cases:\n",
    "\n",
    "    * BEFORE INSERT\n",
    "    * AFTER INSERT\n",
    "    * BEFORE UPDATE\n",
    "    * AFTER UPDATE\n",
    "    * BEFORE DELETE\n",
    "    * AFTER DELETE\n",
    "    * INSTEAD OF INSERT\n",
    "    * INSTEAD OF DELETE\n",
    "    * INSTEAD OF UPDATE\n",
    "\n",
    "\n",
    "\n",
    "##### CREATE TRIGGER\n",
    "\n",
    "We create new trigger using CREATE TRIGGER statment. Below,we present example of trigger, which logs info about deleted student into log table. "
   ]
  },
  {
   "cell_type": "code",
   "execution_count": 20,
   "metadata": {},
   "outputs": [
    {
     "name": "stdout",
     "output_type": "stream",
     "text": [
      "Insert new student Denis Rodman into student table\n",
      "\n",
      "\n",
      "Present data in student table\n",
      "(1, 'Tom', 'Silver', 1996, 70, 176, 1)\n",
      "(2, 'Alex', 'Great', 1995, 60, 164, 2)\n",
      "(3, 'Michael', 'Jordan', 1975, 95, 201, 1)\n",
      "(4, 'Ann', 'Green', 1996, 50, 168, 1)\n",
      "(5, 'Jack', 'Gold', 1996, 80, 190, 1)\n",
      "(6, 'Jack', 'Smith', 1996, 75, 175, None)\n",
      "(18, 'Denis', 'Rodman', 1969, 95, 210, None)\n",
      "\n",
      "Present data in log table\n",
      "(7, 'Denis', 'Rodman', '2018-01-11 15:16:27')\n",
      "(8, 'Denis', 'Rodman', '2018-01-11 15:17:51')\n",
      "(9, 'Denis', 'Rodman', '2018-01-11 15:18:22')\n",
      "(10, 'Denis', 'Rodman', '2018-01-11 15:19:02')\n",
      "(11, 'Denis', 'Rodman', '2018-01-11 15:19:38')\n",
      "(12, 'Denis', 'Rodman', '2018-01-11 19:57:21')\n",
      "(13, 'Denis', 'Rodman', '2018-01-11 19:57:38')\n",
      "(14, 'Denis', 'Rodman', '2018-01-11 20:16:13')\n",
      "(15, 'Denis', 'Rodman', '2018-01-11 20:18:24')\n",
      "(16, 'Denis', 'Rodman', '2021-12-08 17:06:39')\n",
      "(17, 'Denis', 'Rodman', '2021-12-09 15:04:02')\n",
      "Create trigger\n",
      "\n",
      "Delete student Denis Rodman from student table\n",
      "\n",
      "\n",
      "Present data in student table\n",
      "(1, 'Tom', 'Silver', 1996, 70, 176, 1)\n",
      "(2, 'Alex', 'Great', 1995, 60, 164, 2)\n",
      "(3, 'Michael', 'Jordan', 1975, 95, 201, 1)\n",
      "(4, 'Ann', 'Green', 1996, 50, 168, 1)\n",
      "(5, 'Jack', 'Gold', 1996, 80, 190, 1)\n",
      "(6, 'Jack', 'Smith', 1996, 75, 175, None)\n",
      "\n",
      "Present data in log table\n",
      "(7, 'Denis', 'Rodman', '2018-01-11 15:16:27')\n",
      "(8, 'Denis', 'Rodman', '2018-01-11 15:17:51')\n",
      "(9, 'Denis', 'Rodman', '2018-01-11 15:18:22')\n",
      "(10, 'Denis', 'Rodman', '2018-01-11 15:19:02')\n",
      "(11, 'Denis', 'Rodman', '2018-01-11 15:19:38')\n",
      "(12, 'Denis', 'Rodman', '2018-01-11 19:57:21')\n",
      "(13, 'Denis', 'Rodman', '2018-01-11 19:57:38')\n",
      "(14, 'Denis', 'Rodman', '2018-01-11 20:16:13')\n",
      "(15, 'Denis', 'Rodman', '2018-01-11 20:18:24')\n",
      "(16, 'Denis', 'Rodman', '2021-12-08 17:06:39')\n",
      "(17, 'Denis', 'Rodman', '2021-12-09 15:04:02')\n",
      "(18, 'Denis', 'Rodman', '2021-12-09 16:50:05')\n",
      "\n",
      "Drop trigger LogTrigger\n",
      "\n"
     ]
    }
   ],
   "source": [
    "def presentData(c):\n",
    "    \n",
    "    #present data in student table\n",
    "    print(\"\\nPresent data in student table\")\n",
    "    c.execute(\"Select * from student\")\n",
    "\n",
    "    #get all results,assign them to the list,fecthall() returns empty list if no results\n",
    "    printAll(c.fetchall())\n",
    "\n",
    "    #present data in log table\n",
    "    print(\"\\nPresent data in log table\")\n",
    "    c.execute(\"Select * from log\")\n",
    "    \n",
    "    #get all results,assign them to the list,fecthall() returns empty list if no results\n",
    "    printAll(c.fetchall())\n",
    "\n",
    "        \n",
    "import sqlite3\n",
    "\n",
    "conn = sqlite3.connect('testdb2.db')\n",
    "\n",
    "c = conn.cursor()\n",
    "\n",
    "#insert new student Denis Rodman\n",
    "print(\"Insert new student Denis Rodman into student table\\n\")\n",
    "c.execute(\"Insert into student values(?,?,?,?,?,?,?)\",(None,'Denis','Rodman',1969,95,210,None))\n",
    "\n",
    "#get all results,assign them to the list,fecthall() returns empty list if no results\n",
    "printAll(c.fetchall())\n",
    "\n",
    "presentData(c)\n",
    "\n",
    "#get all results,assign them to the list,fecthall() returns empty list if no results\n",
    "printAll(c.fetchall())\n",
    "\n",
    "#create trigger LogTrigger\n",
    "print(\"Create trigger\\n\")\n",
    "c.execute(\"Create trigger LogTrigger after delete on student \\\n",
    "    BEGIN insert into log values(old.student_id,old.name,old.surname,DATETIME('NOW')); END;\")\n",
    "\n",
    "#get all results,assign them to the list,fecthall() returns empty list if no results\n",
    "printAll(c.fetchall())\n",
    "\n",
    "#delete student Denis Rodman\n",
    "print(\"Delete student Denis Rodman from student table\\n\")\n",
    "c.execute(\"Delete from student where name='Denis' \")\n",
    "\n",
    "presentData(c)\n",
    "\n",
    "print(\"\\nDrop trigger LogTrigger\\n\")\n",
    "c.execute(\"DROP TRIGGER IF EXISTS LogTrigger;\")\n",
    "\n",
    "# Save (commit) the changes\n",
    "conn.commit()\n",
    "\n",
    "\n",
    "# We close the connection and free all resources\n",
    "conn.close()"
   ]
  },
  {
   "cell_type": "markdown",
   "metadata": {
    "collapsed": true,
    "jupyter": {
     "outputs_hidden": true
    }
   },
   "source": [
    "##### Remarks for CREATE TRIGGER statment:\n",
    "\n",
    "   * we get access to the row, which is inserted, deleted,updated using the OLD and NEW references in the form: OLD.column_name and NEW.column_name\n",
    "   * we use ; after INSERT and END in CREATE TRIGGER statment."
   ]
  },
  {
   "cell_type": "markdown",
   "metadata": {
    "collapsed": true,
    "jupyter": {
     "outputs_hidden": true
    }
   },
   "source": [
    "#### DROP TRIGGER\n",
    "\n",
    "We use DROP TRIGGER statment to delete trigger. When database does not contain trigger which will be removed,  we can use IF EXISTS statment to omit warnings.  "
   ]
  },
  {
   "cell_type": "code",
   "execution_count": 16,
   "metadata": {},
   "outputs": [
    {
     "name": "stdout",
     "output_type": "stream",
     "text": [
      "\n",
      "Drop trigger LogTrigger\n",
      "\n"
     ]
    }
   ],
   "source": [
    "        \n",
    "import sqlite3\n",
    "\n",
    "conn = sqlite3.connect('testdb2.db')\n",
    "\n",
    "c = conn.cursor()\n",
    "\n",
    "print(\"\\nDrop trigger LogTrigger\\n\")\n",
    "c.execute(\"DROP TRIGGER IF EXISTS LogTrigger;\")\n",
    "\n",
    "# Save (commit) the changes\n",
    "conn.commit()\n",
    "\n",
    "# We close the connection and free all resources\n",
    "conn.close()"
   ]
  },
  {
   "cell_type": "code",
   "execution_count": null,
   "metadata": {
    "collapsed": true,
    "jupyter": {
     "outputs_hidden": true
    }
   },
   "outputs": [],
   "source": []
  }
 ],
 "metadata": {
  "kernelspec": {
   "display_name": "Python 3 (ipykernel)",
   "language": "python",
   "name": "python3"
  },
  "language_info": {
   "codemirror_mode": {
    "name": "ipython",
    "version": 3
   },
   "file_extension": ".py",
   "mimetype": "text/x-python",
   "name": "python",
   "nbconvert_exporter": "python",
   "pygments_lexer": "ipython3",
   "version": "3.12.4"
  }
 },
 "nbformat": 4,
 "nbformat_minor": 4
}
